{
 "cells": [
  {
   "metadata": {
    "ExecuteTime": {
     "end_time": "2025-10-25T04:40:17.295964Z",
     "start_time": "2025-10-25T04:40:17.292869Z"
    }
   },
   "cell_type": "code",
   "source": [
    "import os\n",
    "import sys\n",
    "import pandas as pd"
   ],
   "id": "e9b57989a65304b7",
   "outputs": [],
   "execution_count": 12
  },
  {
   "cell_type": "code",
   "id": "initial_id",
   "metadata": {
    "collapsed": true,
    "ExecuteTime": {
     "end_time": "2025-10-25T04:40:18.068860Z",
     "start_time": "2025-10-25T04:40:18.065840Z"
    }
   },
   "source": [
    "VIDEO_DIR = \"./../../data/temp/videos/trimmed\"\n",
    "LABEL_FILE = \"./../../data/mpgcn_labels.csv\"\n",
    "\n",
    "LABELS = [\n",
    "    \"Transit\",\n",
    "    \"Social_People\",\n",
    "    \"Play_Object_Normal\",\n",
    "    \"Play_Object_Risk\",\n",
    "    \"Adult_Assisting\",\n",
    "    \"Negative_Contact\",\n",
    "    \"No_Activity\"\n",
    "]"
   ],
   "outputs": [],
   "execution_count": 13
  },
  {
   "metadata": {
    "ExecuteTime": {
     "end_time": "2025-10-25T04:40:19.458696Z",
     "start_time": "2025-10-25T04:40:19.436179Z"
    }
   },
   "cell_type": "code",
   "source": [
    "videos = pd.read_csv(\"./../../data/prefiltered_scenes.csv\")\n",
    "videos.head(3)"
   ],
   "id": "9d0686332f103907",
   "outputs": [
    {
     "data": {
      "text/plain": [
       "                               video_base  t_start_sec_x  t_end_sec_x  \\\n",
       "0  columpios_cam4-2024-11-21 19:16:11.mp4       6.333333    10.333333   \n",
       "1   columpioscam2-2024-10-22 22:18:01.mp4      14.500000    18.500000   \n",
       "2   columpioscam1-2024-11-17 17:59:08.mp4       4.333333     8.333333   \n",
       "\n",
       "                                        trimmed_name  start_frame12  \\\n",
       "0  trimmed_columpios_cam4-2024-11-21_19_16_11_00-...           76.0   \n",
       "1  trimmed_columpioscam2-2024-10-22_22_18_01_00-0...          174.0   \n",
       "2  trimmed_columpioscam1-2024-11-17_17_59_08_00-0...           52.0   \n",
       "\n",
       "   window_activity        lat        long                         timestamp  \\\n",
       "0         7.713624  25.653048 -100.285912  2024-11-22 01:16:11.041568+00:00   \n",
       "1         7.713624  25.653151 -100.285797  2024-10-23 04:18:01.051273+00:00   \n",
       "2         7.713624  25.653151 -100.285675         2024-11-17 23:59:08+00:00   \n",
       "\n",
       "                                                  id  \\\n",
       "0  columpios_cam4-2024-11-21_191611.mp4:addad6d5-...   \n",
       "1  columpioscam2-2024-10-22_221801.mp4:a1feb7e2-8...   \n",
       "2  columpioscam1-2024-11-17_175908.mp4:58cd563c-e...   \n",
       "\n",
       "                              id_person          camera  presence_ratio  \\\n",
       "0  addad6d5-1fe6-484f-964d-3302e3899325  columpios_cam4        0.516484   \n",
       "1  a1feb7e2-8cb7-4de0-bbc9-117b21756495   columpioscam2        0.604167   \n",
       "2  58cd563c-eee8-4ee8-835a-250dff0bf206   columpioscam1        1.000000   \n",
       "\n",
       "   mean_edge_touches  mean_motion  duration_sec  keep  \n",
       "0           0.000000     0.264393      3.797771  True  \n",
       "1           0.000000     0.106134      4.005591  True  \n",
       "2           0.246106     0.712733      4.006154  True  "
      ],
      "text/html": [
       "<div>\n",
       "<style scoped>\n",
       "    .dataframe tbody tr th:only-of-type {\n",
       "        vertical-align: middle;\n",
       "    }\n",
       "\n",
       "    .dataframe tbody tr th {\n",
       "        vertical-align: top;\n",
       "    }\n",
       "\n",
       "    .dataframe thead th {\n",
       "        text-align: right;\n",
       "    }\n",
       "</style>\n",
       "<table border=\"1\" class=\"dataframe\">\n",
       "  <thead>\n",
       "    <tr style=\"text-align: right;\">\n",
       "      <th></th>\n",
       "      <th>video_base</th>\n",
       "      <th>t_start_sec_x</th>\n",
       "      <th>t_end_sec_x</th>\n",
       "      <th>trimmed_name</th>\n",
       "      <th>start_frame12</th>\n",
       "      <th>window_activity</th>\n",
       "      <th>lat</th>\n",
       "      <th>long</th>\n",
       "      <th>timestamp</th>\n",
       "      <th>id</th>\n",
       "      <th>id_person</th>\n",
       "      <th>camera</th>\n",
       "      <th>presence_ratio</th>\n",
       "      <th>mean_edge_touches</th>\n",
       "      <th>mean_motion</th>\n",
       "      <th>duration_sec</th>\n",
       "      <th>keep</th>\n",
       "    </tr>\n",
       "  </thead>\n",
       "  <tbody>\n",
       "    <tr>\n",
       "      <th>0</th>\n",
       "      <td>columpios_cam4-2024-11-21 19:16:11.mp4</td>\n",
       "      <td>6.333333</td>\n",
       "      <td>10.333333</td>\n",
       "      <td>trimmed_columpios_cam4-2024-11-21_19_16_11_00-...</td>\n",
       "      <td>76.0</td>\n",
       "      <td>7.713624</td>\n",
       "      <td>25.653048</td>\n",
       "      <td>-100.285912</td>\n",
       "      <td>2024-11-22 01:16:11.041568+00:00</td>\n",
       "      <td>columpios_cam4-2024-11-21_191611.mp4:addad6d5-...</td>\n",
       "      <td>addad6d5-1fe6-484f-964d-3302e3899325</td>\n",
       "      <td>columpios_cam4</td>\n",
       "      <td>0.516484</td>\n",
       "      <td>0.000000</td>\n",
       "      <td>0.264393</td>\n",
       "      <td>3.797771</td>\n",
       "      <td>True</td>\n",
       "    </tr>\n",
       "    <tr>\n",
       "      <th>1</th>\n",
       "      <td>columpioscam2-2024-10-22 22:18:01.mp4</td>\n",
       "      <td>14.500000</td>\n",
       "      <td>18.500000</td>\n",
       "      <td>trimmed_columpioscam2-2024-10-22_22_18_01_00-0...</td>\n",
       "      <td>174.0</td>\n",
       "      <td>7.713624</td>\n",
       "      <td>25.653151</td>\n",
       "      <td>-100.285797</td>\n",
       "      <td>2024-10-23 04:18:01.051273+00:00</td>\n",
       "      <td>columpioscam2-2024-10-22_221801.mp4:a1feb7e2-8...</td>\n",
       "      <td>a1feb7e2-8cb7-4de0-bbc9-117b21756495</td>\n",
       "      <td>columpioscam2</td>\n",
       "      <td>0.604167</td>\n",
       "      <td>0.000000</td>\n",
       "      <td>0.106134</td>\n",
       "      <td>4.005591</td>\n",
       "      <td>True</td>\n",
       "    </tr>\n",
       "    <tr>\n",
       "      <th>2</th>\n",
       "      <td>columpioscam1-2024-11-17 17:59:08.mp4</td>\n",
       "      <td>4.333333</td>\n",
       "      <td>8.333333</td>\n",
       "      <td>trimmed_columpioscam1-2024-11-17_17_59_08_00-0...</td>\n",
       "      <td>52.0</td>\n",
       "      <td>7.713624</td>\n",
       "      <td>25.653151</td>\n",
       "      <td>-100.285675</td>\n",
       "      <td>2024-11-17 23:59:08+00:00</td>\n",
       "      <td>columpioscam1-2024-11-17_175908.mp4:58cd563c-e...</td>\n",
       "      <td>58cd563c-eee8-4ee8-835a-250dff0bf206</td>\n",
       "      <td>columpioscam1</td>\n",
       "      <td>1.000000</td>\n",
       "      <td>0.246106</td>\n",
       "      <td>0.712733</td>\n",
       "      <td>4.006154</td>\n",
       "      <td>True</td>\n",
       "    </tr>\n",
       "  </tbody>\n",
       "</table>\n",
       "</div>"
      ]
     },
     "execution_count": 14,
     "metadata": {},
     "output_type": "execute_result"
    }
   ],
   "execution_count": 14
  },
  {
   "metadata": {
    "ExecuteTime": {
     "end_time": "2025-10-25T04:40:22.019725Z",
     "start_time": "2025-10-25T04:40:22.012209Z"
    }
   },
   "cell_type": "code",
   "source": [
    "df_label = videos[[\"trimmed_name\", \"video_base\", \"camera\", \"t_start_sec_x\", \"t_end_sec_x\"]].copy()\n",
    "df_label[\"activity_label\"] = None\n",
    "df_label.head()"
   ],
   "id": "87455f500bb94aad",
   "outputs": [
    {
     "data": {
      "text/plain": [
       "                                        trimmed_name  \\\n",
       "0  trimmed_columpios_cam4-2024-11-21_19_16_11_00-...   \n",
       "1  trimmed_columpioscam2-2024-10-22_22_18_01_00-0...   \n",
       "2  trimmed_columpioscam1-2024-11-17_17_59_08_00-0...   \n",
       "3  trimmed_columpioscam1-2024-11-17_17_59_08_00-0...   \n",
       "4  trimmed_columpioscam3-2024-09-25_12_47_16_00-0...   \n",
       "\n",
       "                               video_base          camera  t_start_sec_x  \\\n",
       "0  columpios_cam4-2024-11-21 19:16:11.mp4  columpios_cam4       6.333333   \n",
       "1   columpioscam2-2024-10-22 22:18:01.mp4   columpioscam2      14.500000   \n",
       "2   columpioscam1-2024-11-17 17:59:08.mp4   columpioscam1       4.333333   \n",
       "3   columpioscam1-2024-11-17 17:59:08.mp4   columpioscam1       4.333333   \n",
       "4   columpioscam3-2024-09-25 12:47:16.mp4   columpioscam3      11.416667   \n",
       "\n",
       "   t_end_sec_x activity_label  \n",
       "0    10.333333           None  \n",
       "1    18.500000           None  \n",
       "2     8.333333           None  \n",
       "3     8.333333           None  \n",
       "4    15.416667           None  "
      ],
      "text/html": [
       "<div>\n",
       "<style scoped>\n",
       "    .dataframe tbody tr th:only-of-type {\n",
       "        vertical-align: middle;\n",
       "    }\n",
       "\n",
       "    .dataframe tbody tr th {\n",
       "        vertical-align: top;\n",
       "    }\n",
       "\n",
       "    .dataframe thead th {\n",
       "        text-align: right;\n",
       "    }\n",
       "</style>\n",
       "<table border=\"1\" class=\"dataframe\">\n",
       "  <thead>\n",
       "    <tr style=\"text-align: right;\">\n",
       "      <th></th>\n",
       "      <th>trimmed_name</th>\n",
       "      <th>video_base</th>\n",
       "      <th>camera</th>\n",
       "      <th>t_start_sec_x</th>\n",
       "      <th>t_end_sec_x</th>\n",
       "      <th>activity_label</th>\n",
       "    </tr>\n",
       "  </thead>\n",
       "  <tbody>\n",
       "    <tr>\n",
       "      <th>0</th>\n",
       "      <td>trimmed_columpios_cam4-2024-11-21_19_16_11_00-...</td>\n",
       "      <td>columpios_cam4-2024-11-21 19:16:11.mp4</td>\n",
       "      <td>columpios_cam4</td>\n",
       "      <td>6.333333</td>\n",
       "      <td>10.333333</td>\n",
       "      <td>None</td>\n",
       "    </tr>\n",
       "    <tr>\n",
       "      <th>1</th>\n",
       "      <td>trimmed_columpioscam2-2024-10-22_22_18_01_00-0...</td>\n",
       "      <td>columpioscam2-2024-10-22 22:18:01.mp4</td>\n",
       "      <td>columpioscam2</td>\n",
       "      <td>14.500000</td>\n",
       "      <td>18.500000</td>\n",
       "      <td>None</td>\n",
       "    </tr>\n",
       "    <tr>\n",
       "      <th>2</th>\n",
       "      <td>trimmed_columpioscam1-2024-11-17_17_59_08_00-0...</td>\n",
       "      <td>columpioscam1-2024-11-17 17:59:08.mp4</td>\n",
       "      <td>columpioscam1</td>\n",
       "      <td>4.333333</td>\n",
       "      <td>8.333333</td>\n",
       "      <td>None</td>\n",
       "    </tr>\n",
       "    <tr>\n",
       "      <th>3</th>\n",
       "      <td>trimmed_columpioscam1-2024-11-17_17_59_08_00-0...</td>\n",
       "      <td>columpioscam1-2024-11-17 17:59:08.mp4</td>\n",
       "      <td>columpioscam1</td>\n",
       "      <td>4.333333</td>\n",
       "      <td>8.333333</td>\n",
       "      <td>None</td>\n",
       "    </tr>\n",
       "    <tr>\n",
       "      <th>4</th>\n",
       "      <td>trimmed_columpioscam3-2024-09-25_12_47_16_00-0...</td>\n",
       "      <td>columpioscam3-2024-09-25 12:47:16.mp4</td>\n",
       "      <td>columpioscam3</td>\n",
       "      <td>11.416667</td>\n",
       "      <td>15.416667</td>\n",
       "      <td>None</td>\n",
       "    </tr>\n",
       "  </tbody>\n",
       "</table>\n",
       "</div>"
      ]
     },
     "execution_count": 15,
     "metadata": {},
     "output_type": "execute_result"
    }
   ],
   "execution_count": 15
  },
  {
   "metadata": {},
   "cell_type": "markdown",
   "source": "### Resume From Previous Progress (if exists)",
   "id": "7cf8722a5c2e1f6b"
  },
  {
   "metadata": {
    "ExecuteTime": {
     "end_time": "2025-10-25T04:40:24.153889Z",
     "start_time": "2025-10-25T04:40:24.149019Z"
    }
   },
   "cell_type": "code",
   "source": [
    "if os.path.exists(LABEL_FILE):\n",
    "    existing = pd.read_csv(LABEL_FILE)\n",
    "    df_label = df_label.merge(existing[[\"trimmed_name\", \"activity_label\"]],\n",
    "                              on=\"trimmed_name\", how=\"left\", suffixes=(\"\", \"_old\"))\n",
    "\n",
    "    df_label[\"activity_label\"] = df_label[\"activity_label\"].combine_first(df_label[\"activity_label_old\"])\n",
    "    df_label.drop(columns=[\"activity_label_old\"], inplace=True)\n",
    "else:\n",
    "    existing = pd.DataFrame(columns=[\"trimmed_name\", \"activity_label\"])"
   ],
   "id": "4e91b59ff97cb0e8",
   "outputs": [],
   "execution_count": 16
  },
  {
   "metadata": {},
   "cell_type": "markdown",
   "source": "### Labeling UI",
   "id": "da5826d765291543"
  },
  {
   "metadata": {
    "ExecuteTime": {
     "end_time": "2025-10-25T04:40:25.524661Z",
     "start_time": "2025-10-25T04:40:25.521773Z"
    }
   },
   "cell_type": "code",
   "source": [
    "helpers_path = os.path.abspath(os.path.join(os.getcwd(), \"helpers\"))\n",
    "print(\"Added path:\", helpers_path)\n",
    "\n",
    "if helpers_path not in sys.path:\n",
    "    sys.path.append(helpers_path)"
   ],
   "id": "304330a808b39128",
   "outputs": [
    {
     "name": "stdout",
     "output_type": "stream",
     "text": [
      "Added path: /Users/alexeidelgado/Desktop/mpgcn-playground-scenes/script/notebooks/helpers\n"
     ]
    }
   ],
   "execution_count": 17
  },
  {
   "metadata": {
    "ExecuteTime": {
     "end_time": "2025-10-25T04:40:26.560106Z",
     "start_time": "2025-10-25T04:40:26.557764Z"
    }
   },
   "cell_type": "code",
   "source": "from video_labeling_widget import start_labeling",
   "id": "6bee9d57c7ad335b",
   "outputs": [],
   "execution_count": 18
  },
  {
   "metadata": {},
   "cell_type": "markdown",
   "source": "> ⚠️ Please run this on a web version of the notebook to visualize the video",
   "id": "8cf0214132e20190"
  },
  {
   "metadata": {
    "ExecuteTime": {
     "end_time": "2025-10-25T04:40:28.236671Z",
     "start_time": "2025-10-25T04:40:28.216848Z"
    }
   },
   "cell_type": "code",
   "source": "start_labeling(df_label, VIDEO_DIR, LABEL_FILE, LABELS)",
   "id": "ac75e5808f3e5995",
   "outputs": [
    {
     "data": {
      "text/plain": [
       "Output()"
      ],
      "application/vnd.jupyter.widget-view+json": {
       "version_major": 2,
       "version_minor": 0,
       "model_id": "91186147a3614476a0dbc5d4dd9e4452"
      }
     },
     "metadata": {},
     "output_type": "display_data"
    }
   ],
   "execution_count": null
  },
  {
   "metadata": {},
   "cell_type": "markdown",
   "source": "> Don't run if videos are not fully labeled yet",
   "id": "7b371404b8bde03f"
  },
  {
   "metadata": {
    "ExecuteTime": {
     "end_time": "2025-10-25T04:43:32.728443Z",
     "start_time": "2025-10-25T04:43:32.715151Z"
    }
   },
   "cell_type": "code",
   "source": [
    "class2idx = {label: idx for idx, label in enumerate(LABELS)}\n",
    "df_label[\"class_id\"] = df_label[\"activity_label\"].map(class2idx)\n",
    "df_label.to_csv(\"mpgcn_labels_encoded.csv\", index=False)\n",
    "\n",
    "print(class2idx)"
   ],
   "id": "5249e003b90901ae",
   "outputs": [
    {
     "name": "stdout",
     "output_type": "stream",
     "text": [
      "{'Transit': 0, 'Social_People': 1, 'Play_Object_Normal': 2, 'Play_Object_Risk': 3, 'Adult_Assisting': 4, 'Negative_Contact': 5, 'No_Activity': 6}\n"
     ]
    }
   ],
   "execution_count": 20
  }
 ],
 "metadata": {
  "kernelspec": {
   "display_name": "Python 3",
   "language": "python",
   "name": "python3"
  },
  "language_info": {
   "codemirror_mode": {
    "name": "ipython",
    "version": 2
   },
   "file_extension": ".py",
   "mimetype": "text/x-python",
   "name": "python",
   "nbconvert_exporter": "python",
   "pygments_lexer": "ipython2",
   "version": "2.7.6"
  }
 },
 "nbformat": 4,
 "nbformat_minor": 5
}
