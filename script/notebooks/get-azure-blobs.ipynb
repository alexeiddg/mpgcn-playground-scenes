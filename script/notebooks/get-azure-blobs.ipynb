{
 "cells": [
  {
   "metadata": {
    "ExecuteTime": {
     "end_time": "2025-10-22T20:39:19.671832Z",
     "start_time": "2025-10-22T20:39:19.668910Z"
    }
   },
   "cell_type": "code",
   "source": [
    "import pandas as pd\n",
    "import os\n",
    "\n",
    "from dotenv import load_dotenv\n",
    "from azure.storage.blob import BlobServiceClient\n",
    "from azure.storage.blob import ContainerClient"
   ],
   "id": "10dbea3628350b8",
   "outputs": [],
   "execution_count": 2
  },
  {
   "metadata": {
    "ExecuteTime": {
     "end_time": "2025-10-22T20:41:17.083202Z",
     "start_time": "2025-10-22T20:41:17.079634Z"
    }
   },
   "cell_type": "code",
   "source": [
    "load_dotenv()\n",
    "\n",
    "account_url = os.getenv('AZURE_ACCOUNT_URL', 'https://your-account.blob.core.windows.net')\n",
    "account_name = os.getenv('AZURE_ACCOUNT_NAME', 'your-account-name')\n",
    "container = os.getenv('AZURE_CONTAINER', 'your-container-name')\n",
    "sas_token = os.getenv('AZURE_SAS_TOKEN', 'your-sas-token-here')"
   ],
   "id": "f02d675539f1f7db",
   "outputs": [],
   "execution_count": 5
  },
  {
   "metadata": {
    "ExecuteTime": {
     "end_time": "2025-10-22T20:41:18.058415Z",
     "start_time": "2025-10-22T20:41:18.054853Z"
    }
   },
   "cell_type": "code",
   "source": [
    "# Connect to Azure Blob Storage\n",
    "blob_service_client = BlobServiceClient(account_url, credential=sas_token)\n",
    "container_client = blob_service_client.get_container_client(container)"
   ],
   "id": "2352c68c744a3ba1",
   "outputs": [],
   "execution_count": 6
  },
  {
   "metadata": {
    "ExecuteTime": {
     "end_time": "2025-10-22T20:41:19.614727Z",
     "start_time": "2025-10-22T20:41:19.611611Z"
    }
   },
   "cell_type": "code",
   "source": [
    "def list_all_videos_in_azure(container_client):\n",
    "    \"\"\"\n",
    "    Lists all blobs in the given Azure Blob Storage container.\n",
    "    Returns a DataFrame with blob name and size.\n",
    "    \"\"\"\n",
    "    print(\"📦 Listing all blobs in container...\")\n",
    "\n",
    "    blobs = []\n",
    "    for blob in container_client.list_blobs():\n",
    "        blobs.append({\n",
    "            \"blob_name\": blob.name,\n",
    "            \"size_bytes\": blob.size,\n",
    "            \"last_modified\": blob.last_modified\n",
    "        })\n",
    "\n",
    "    df_blobs = pd.DataFrame(blobs)\n",
    "    print(f\"✅ Found {len(df_blobs)} blobs in total.\")\n",
    "    print(df_blobs.head())\n",
    "\n",
    "    return df_blobs"
   ],
   "id": "c1f51a983196458",
   "outputs": [],
   "execution_count": 7
  },
  {
   "cell_type": "code",
   "id": "initial_id",
   "metadata": {
    "collapsed": true,
    "ExecuteTime": {
     "end_time": "2025-10-22T20:42:54.895534Z",
     "start_time": "2025-10-22T20:41:36.539488Z"
    }
   },
   "source": [
    "container_url = f\"https://{account_name}.blob.core.windows.net/{container}?{sas_token}\"\n",
    "\n",
    "container_client = ContainerClient.from_container_url(container_url)\n",
    "\n",
    "df_all = list_all_videos_in_azure(container_client)"
   ],
   "outputs": [
    {
     "name": "stdout",
     "output_type": "stream",
     "text": [
      "📦 Listing all blobs in container...\n",
      "✅ Found 160865 blobs in total.\n",
      "                              blob_name  size_bytes             last_modified\n",
      "0  banorte_cam1-2024-10-24 16:49:52.mp4     5094070 2024-11-20 20:19:11+00:00\n",
      "1  banorte_cam1-2024-10-24 16:52:25.mp4     1690592 2024-11-20 20:22:27+00:00\n",
      "2  banorte_cam1-2024-10-24 16:52:52.mp4     3817924 2024-11-20 20:11:44+00:00\n",
      "3  banorte_cam1-2024-10-24 16:54:37.mp4     3319540 2024-11-20 20:06:34+00:00\n",
      "4  banorte_cam1-2024-10-24 16:56:22.mp4     5969510 2024-11-20 20:03:51+00:00\n"
     ]
    }
   ],
   "execution_count": 8
  },
  {
   "metadata": {
    "ExecuteTime": {
     "end_time": "2025-10-22T20:43:01.334948Z",
     "start_time": "2025-10-22T20:43:00.924745Z"
    }
   },
   "cell_type": "code",
   "source": "df_all.to_csv('./../../data/azure_names.csv', index=False)",
   "id": "ff88a81db7875b29",
   "outputs": [],
   "execution_count": 9
  }
 ],
 "metadata": {
  "kernelspec": {
   "display_name": "Python 3",
   "language": "python",
   "name": "python3"
  },
  "language_info": {
   "codemirror_mode": {
    "name": "ipython",
    "version": 2
   },
   "file_extension": ".py",
   "mimetype": "text/x-python",
   "name": "python",
   "nbconvert_exporter": "python",
   "pygments_lexer": "ipython2",
   "version": "2.7.6"
  }
 },
 "nbformat": 4,
 "nbformat_minor": 5
}
