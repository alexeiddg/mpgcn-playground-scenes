{
 "cells": [
  {
   "cell_type": "code",
   "id": "initial_id",
   "metadata": {
    "collapsed": true,
    "ExecuteTime": {
     "end_time": "2025-10-28T04:29:34.560121Z",
     "start_time": "2025-10-28T04:29:33.917341Z"
    }
   },
   "source": [
    "from ultralytics import YOLO\n",
    "import os, json, cv2\n",
    "from tqdm import tqdm\n",
    "import torch\n",
    "import matplotlib.pyplot as plt"
   ],
   "outputs": [],
   "execution_count": 1
  },
  {
   "metadata": {
    "ExecuteTime": {
     "end_time": "2025-10-28T04:29:35.151036Z",
     "start_time": "2025-10-28T04:29:35.148069Z"
    }
   },
   "cell_type": "code",
   "source": [
    "device = 0 if torch.cuda.is_available() else \"cpu\"\n",
    "print(f\"Using device: {device}\")"
   ],
   "id": "f6d51b1504288488",
   "outputs": [
    {
     "name": "stdout",
     "output_type": "stream",
     "text": [
      "Using device: cpu\n"
     ]
    }
   ],
   "execution_count": 2
  },
  {
   "metadata": {
    "ExecuteTime": {
     "end_time": "2025-10-28T04:29:36.235385Z",
     "start_time": "2025-10-28T04:29:36.230434Z"
    }
   },
   "cell_type": "code",
   "source": [
    "VIDEO_DIR = \"./../../data/temp/videos/trimmed\"\n",
    "OUTPUT_DIR = \"./../../data/temp/objects\"\n",
    "\n",
    "os.makedirs(OUTPUT_DIR, exist_ok=True)\n",
    "\n",
    "videos = [v for v in os.listdir(VIDEO_DIR) if v.endswith(\".mp4\")]\n",
    "print(f\"Found {len(videos)} videos for object detection.\")"
   ],
   "id": "5d9eec59a029a88c",
   "outputs": [
    {
     "name": "stdout",
     "output_type": "stream",
     "text": [
      "Found 1643 videos for object detection.\n"
     ]
    }
   ],
   "execution_count": 3
  },
  {
   "metadata": {},
   "cell_type": "code",
   "source": "model = YOLO(\"yolo11l\")",
   "id": "f289259457f50fa8",
   "outputs": [],
   "execution_count": null
  },
  {
   "metadata": {},
   "cell_type": "code",
   "outputs": [],
   "execution_count": null,
   "source": [
    "for video_name in tqdm(videos, desc=\"Detecting objects\"):\n",
    "    video_path = os.path.join(VIDEO_DIR, video_name)\n",
    "    out_json = os.path.join(OUTPUT_DIR, video_name.replace(\".mp4\", \"_objects.json\"))\n",
    "\n",
    "    frame_idx, object_data = 0, []\n",
    "\n",
    "    results = model(video_path, stream=True, device=device, half=True, verbose=False)\n",
    "\n",
    "    for r in results:\n",
    "        frame_objects = []\n",
    "        if r.boxes is not None:\n",
    "            boxes = r.boxes.xyxy.cpu().numpy()\n",
    "            confs = r.boxes.conf.cpu().numpy()\n",
    "            classes = r.boxes.cls.cpu().numpy()\n",
    "\n",
    "            for i, box in enumerate(boxes):\n",
    "                x1, y1, x2, y2 = map(float, box)\n",
    "                cls_name = model.names[int(classes[i])]\n",
    "                frame_objects.append({\n",
    "                    \"id\": int(i),\n",
    "                    \"class\": cls_name,\n",
    "                    \"bbox\": [x1, y1, x2, y2],\n",
    "                    \"conf\": float(confs[i])\n",
    "                })\n",
    "\n",
    "        object_data.append({\"frame\": frame_idx, \"objects\": frame_objects})\n",
    "        frame_idx += 1\n",
    "\n",
    "    with open(out_json, \"w\") as f:\n",
    "        json.dump(object_data, f, indent=2)\n",
    "\n",
    "    print(f\"Saved detections → {out_json}\")"
   ],
   "id": "3ec1e61b94163a5c"
  }
 ],
 "metadata": {
  "kernelspec": {
   "display_name": "Python 3",
   "language": "python",
   "name": "python3"
  },
  "language_info": {
   "codemirror_mode": {
    "name": "ipython",
    "version": 2
   },
   "file_extension": ".py",
   "mimetype": "text/x-python",
   "name": "python",
   "nbconvert_exporter": "python",
   "pygments_lexer": "ipython2",
   "version": "2.7.6"
  }
 },
 "nbformat": 4,
 "nbformat_minor": 5
}
