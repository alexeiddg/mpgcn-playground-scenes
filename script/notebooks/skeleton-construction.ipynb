{
 "cells": [
  {
   "metadata": {
    "ExecuteTime": {
     "end_time": "2025-10-24T20:49:08.413846Z",
     "start_time": "2025-10-24T20:49:08.410898Z"
    }
   },
   "cell_type": "code",
   "source": [
    "from ultralytics import YOLO\n",
    "import cv2\n",
    "import numpy as np\n",
    "import os\n",
    "import pandas as pd\n",
    "import json\n",
    "import torch\n",
    "from tqdm import tqdm"
   ],
   "id": "385312188c6009e0",
   "outputs": [],
   "execution_count": 36
  },
  {
   "metadata": {
    "ExecuteTime": {
     "end_time": "2025-10-24T19:44:54.861237Z",
     "start_time": "2025-10-24T19:44:54.842299Z"
    }
   },
   "cell_type": "code",
   "source": [
    "original_scenes = pd.read_csv(\"../../data/videos-trimmed.csv\")\n",
    "print(original_scenes.shape)\n",
    "original_scenes.head()"
   ],
   "id": "66acaeea54bc187d",
   "outputs": [
    {
     "name": "stdout",
     "output_type": "stream",
     "text": [
      "(2277, 12)\n"
     ]
    },
    {
     "data": {
      "text/plain": [
       "                               video_base  t_start_sec_x  t_end_sec_x  \\\n",
       "0  columpios_cam4-2024-11-21 18:53:10.mp4      13.833333    17.833333   \n",
       "1   columpioscam3-2024-09-25 11:41:35.mp4       6.250000    10.250000   \n",
       "2   columpioscam3-2024-10-03 18:29:30.mp4      12.916667    16.916667   \n",
       "3   columpioscam1-2024-11-17 10:25:24.mp4      10.000000    14.000000   \n",
       "4  columpios_cam4-2024-11-21 19:16:11.mp4       6.333333    10.333333   \n",
       "\n",
       "                                        trimmed_name  start_frame12  \\\n",
       "0  trimmed_columpios_cam4-2024-11-21_18_53_10_00-...          166.0   \n",
       "1  trimmed_columpioscam3-2024-09-25_11_41_35_00-0...           75.0   \n",
       "2  trimmed_columpioscam3-2024-10-03_18_29_30_00-0...          155.0   \n",
       "3  trimmed_columpioscam1-2024-11-17_10_25_24_00-0...          120.0   \n",
       "4  trimmed_columpios_cam4-2024-11-21_19_16_11_00-...           76.0   \n",
       "\n",
       "   window_activity        lat        long                         timestamp  \\\n",
       "0         7.713624  25.653061 -100.285843  2024-11-22 00:53:10.041613+00:00   \n",
       "1         7.713624  25.653034 -100.286041  2024-09-25 17:41:35.045100+00:00   \n",
       "2         7.713624  25.652994 -100.286118  2024-10-04 00:29:30.051348+00:00   \n",
       "3         7.713624  25.653151 -100.285637  2024-11-17 16:25:24.041494+00:00   \n",
       "4         7.713624  25.653048 -100.285912  2024-11-22 01:16:11.041568+00:00   \n",
       "\n",
       "                                                  id  \\\n",
       "0  columpios_cam4-2024-11-21_185310.mp4:17527661-...   \n",
       "1           columpioscam3-2024-09-25_114135.mp4:96:0   \n",
       "2  columpioscam3-2024-10-03_182930.mp4:66a106a0-b...   \n",
       "3  columpioscam1-2024-11-17_102524.mp4:85745e56-a...   \n",
       "4  columpios_cam4-2024-11-21_191611.mp4:addad6d5-...   \n",
       "\n",
       "                              id_person          camera  \n",
       "0  17527661-d095-4e94-bad5-cf142e0d4a79  columpios_cam4  \n",
       "1                                    96   columpioscam3  \n",
       "2  66a106a0-bd03-49e9-8418-8c6ae98d020c   columpioscam3  \n",
       "3  85745e56-a3e9-4b62-bb2d-c1e8ee152f86   columpioscam1  \n",
       "4  addad6d5-1fe6-484f-964d-3302e3899325  columpios_cam4  "
      ],
      "text/html": [
       "<div>\n",
       "<style scoped>\n",
       "    .dataframe tbody tr th:only-of-type {\n",
       "        vertical-align: middle;\n",
       "    }\n",
       "\n",
       "    .dataframe tbody tr th {\n",
       "        vertical-align: top;\n",
       "    }\n",
       "\n",
       "    .dataframe thead th {\n",
       "        text-align: right;\n",
       "    }\n",
       "</style>\n",
       "<table border=\"1\" class=\"dataframe\">\n",
       "  <thead>\n",
       "    <tr style=\"text-align: right;\">\n",
       "      <th></th>\n",
       "      <th>video_base</th>\n",
       "      <th>t_start_sec_x</th>\n",
       "      <th>t_end_sec_x</th>\n",
       "      <th>trimmed_name</th>\n",
       "      <th>start_frame12</th>\n",
       "      <th>window_activity</th>\n",
       "      <th>lat</th>\n",
       "      <th>long</th>\n",
       "      <th>timestamp</th>\n",
       "      <th>id</th>\n",
       "      <th>id_person</th>\n",
       "      <th>camera</th>\n",
       "    </tr>\n",
       "  </thead>\n",
       "  <tbody>\n",
       "    <tr>\n",
       "      <th>0</th>\n",
       "      <td>columpios_cam4-2024-11-21 18:53:10.mp4</td>\n",
       "      <td>13.833333</td>\n",
       "      <td>17.833333</td>\n",
       "      <td>trimmed_columpios_cam4-2024-11-21_18_53_10_00-...</td>\n",
       "      <td>166.0</td>\n",
       "      <td>7.713624</td>\n",
       "      <td>25.653061</td>\n",
       "      <td>-100.285843</td>\n",
       "      <td>2024-11-22 00:53:10.041613+00:00</td>\n",
       "      <td>columpios_cam4-2024-11-21_185310.mp4:17527661-...</td>\n",
       "      <td>17527661-d095-4e94-bad5-cf142e0d4a79</td>\n",
       "      <td>columpios_cam4</td>\n",
       "    </tr>\n",
       "    <tr>\n",
       "      <th>1</th>\n",
       "      <td>columpioscam3-2024-09-25 11:41:35.mp4</td>\n",
       "      <td>6.250000</td>\n",
       "      <td>10.250000</td>\n",
       "      <td>trimmed_columpioscam3-2024-09-25_11_41_35_00-0...</td>\n",
       "      <td>75.0</td>\n",
       "      <td>7.713624</td>\n",
       "      <td>25.653034</td>\n",
       "      <td>-100.286041</td>\n",
       "      <td>2024-09-25 17:41:35.045100+00:00</td>\n",
       "      <td>columpioscam3-2024-09-25_114135.mp4:96:0</td>\n",
       "      <td>96</td>\n",
       "      <td>columpioscam3</td>\n",
       "    </tr>\n",
       "    <tr>\n",
       "      <th>2</th>\n",
       "      <td>columpioscam3-2024-10-03 18:29:30.mp4</td>\n",
       "      <td>12.916667</td>\n",
       "      <td>16.916667</td>\n",
       "      <td>trimmed_columpioscam3-2024-10-03_18_29_30_00-0...</td>\n",
       "      <td>155.0</td>\n",
       "      <td>7.713624</td>\n",
       "      <td>25.652994</td>\n",
       "      <td>-100.286118</td>\n",
       "      <td>2024-10-04 00:29:30.051348+00:00</td>\n",
       "      <td>columpioscam3-2024-10-03_182930.mp4:66a106a0-b...</td>\n",
       "      <td>66a106a0-bd03-49e9-8418-8c6ae98d020c</td>\n",
       "      <td>columpioscam3</td>\n",
       "    </tr>\n",
       "    <tr>\n",
       "      <th>3</th>\n",
       "      <td>columpioscam1-2024-11-17 10:25:24.mp4</td>\n",
       "      <td>10.000000</td>\n",
       "      <td>14.000000</td>\n",
       "      <td>trimmed_columpioscam1-2024-11-17_10_25_24_00-0...</td>\n",
       "      <td>120.0</td>\n",
       "      <td>7.713624</td>\n",
       "      <td>25.653151</td>\n",
       "      <td>-100.285637</td>\n",
       "      <td>2024-11-17 16:25:24.041494+00:00</td>\n",
       "      <td>columpioscam1-2024-11-17_102524.mp4:85745e56-a...</td>\n",
       "      <td>85745e56-a3e9-4b62-bb2d-c1e8ee152f86</td>\n",
       "      <td>columpioscam1</td>\n",
       "    </tr>\n",
       "    <tr>\n",
       "      <th>4</th>\n",
       "      <td>columpios_cam4-2024-11-21 19:16:11.mp4</td>\n",
       "      <td>6.333333</td>\n",
       "      <td>10.333333</td>\n",
       "      <td>trimmed_columpios_cam4-2024-11-21_19_16_11_00-...</td>\n",
       "      <td>76.0</td>\n",
       "      <td>7.713624</td>\n",
       "      <td>25.653048</td>\n",
       "      <td>-100.285912</td>\n",
       "      <td>2024-11-22 01:16:11.041568+00:00</td>\n",
       "      <td>columpios_cam4-2024-11-21_191611.mp4:addad6d5-...</td>\n",
       "      <td>addad6d5-1fe6-484f-964d-3302e3899325</td>\n",
       "      <td>columpios_cam4</td>\n",
       "    </tr>\n",
       "  </tbody>\n",
       "</table>\n",
       "</div>"
      ]
     },
     "execution_count": 27,
     "metadata": {},
     "output_type": "execute_result"
    }
   ],
   "execution_count": 27
  },
  {
   "metadata": {},
   "cell_type": "markdown",
   "source": "## Preprocessing",
   "id": "a865c2f2a3d73d3c"
  },
  {
   "metadata": {},
   "cell_type": "markdown",
   "source": [
    "We’ll combine three lightweight checks, all possible using yolov11n.pt (detection-only):\n",
    "\n",
    "\n",
    "\n",
    "|**Check**|**Metric**|**Threshold**|**Purpose**|\n",
    "|---|---|---|---|\n",
    "|**Human presence**|% frames with ≥1 “person” detection|< 0.2 (20%)|Skip videos mostly empty|\n",
    "|**Activity (motion)**|Mean inter-frame IoU change or optical flow|< 0.05|Skip static scenes|\n",
    "|**Duration**|Clip length (seconds)|< 1.0|Skip ultra-short clips|\n",
    "|**Edge occupancy**|% boxes touching frame edge|> 0.5|Flag for low-quality (partial) views|\n"
   ],
   "id": "82d6d127dda5b0a0"
  },
  {
   "cell_type": "code",
   "id": "initial_id",
   "metadata": {
    "collapsed": true,
    "ExecuteTime": {
     "end_time": "2025-10-24T18:29:01.275237Z",
     "start_time": "2025-10-24T18:29:00.518206Z"
    }
   },
   "source": [
    "detector = YOLO(\"yolo11n.pt\")\n",
    "\n",
    "def detect_persons(video_path):\n",
    "    cap = cv2.VideoCapture(video_path)\n",
    "    if not cap.isOpened():\n",
    "        print(f\"❌ Could not open video: {video_path}\")\n",
    "        return None\n",
    "\n",
    "    total_frames, person_frames = 0, 0\n",
    "    edge_touches, motion_values = [], []\n",
    "    prev_boxes = None\n",
    "\n",
    "    while True:\n",
    "        ret, frame = cap.read()\n",
    "        if not ret:\n",
    "            break\n",
    "        total_frames += 1\n",
    "\n",
    "        results = detector(frame, verbose=False)[0]\n",
    "        boxes = results.boxes.xyxy.cpu().numpy()\n",
    "        cls = results.boxes.cls.cpu().numpy()\n",
    "        people = boxes[cls == 0]  # class 0 = person\n",
    "\n",
    "        if len(people) > 0:\n",
    "            person_frames += 1\n",
    "            H, W = frame.shape[:2]\n",
    "            touches = np.mean((people[:,0] < 5) | (people[:,1] < 5) |\n",
    "                              (people[:,2] > W-5) | (people[:,3] > H-5))\n",
    "            edge_touches.append(touches)\n",
    "\n",
    "            if prev_boxes is not None:\n",
    "                ious = []\n",
    "                for p in people:\n",
    "                    for q in prev_boxes:\n",
    "                        ix1, iy1 = max(p[0], q[0]), max(p[1], q[1])\n",
    "                        ix2, iy2 = min(p[2], q[2]), min(p[3], q[3])\n",
    "                        inter = max(0, ix2-ix1) * max(0, iy2-iy1)\n",
    "                        union = (p[2]-p[0])*(p[3]-p[1]) + (q[2]-q[0])*(q[3]-q[1]) - inter\n",
    "                        if union > 0:\n",
    "                            ious.append(inter/union)\n",
    "                if ious:\n",
    "                    motion_values.append(1 - np.mean(ious))\n",
    "\n",
    "            prev_boxes = people\n",
    "\n",
    "    fps = cap.get(cv2.CAP_PROP_FPS)\n",
    "    cap.release()\n",
    "\n",
    "    if fps == 0 or np.isnan(fps):\n",
    "        fps = 30.0  # fallback assumption\n",
    "\n",
    "    if total_frames == 0:\n",
    "        print(f\"❌ No readable frames: {video_path}\")\n",
    "        return None\n",
    "\n",
    "    return {\n",
    "        \"presence_ratio\": person_frames / total_frames,\n",
    "        \"mean_edge_touches\": np.mean(edge_touches) if edge_touches else 0,\n",
    "        \"mean_motion\": np.mean(motion_values) if motion_values else 0,\n",
    "        \"duration_sec\": total_frames / fps,\n",
    "    }"
   ],
   "outputs": [
    {
     "name": "stdout",
     "output_type": "stream",
     "text": [
      "\u001B[KDownloading https://github.com/ultralytics/assets/releases/download/v8.3.0/yolo11n.pt to 'yolo11n.pt': 100% ━━━━━━━━━━━━ 5.4MB 19.2MB/s 0.3s.2s<0.2s3s\n"
     ]
    }
   ],
   "execution_count": 19
  },
  {
   "metadata": {
    "ExecuteTime": {
     "end_time": "2025-10-24T18:18:21.691994Z",
     "start_time": "2025-10-24T18:18:21.688775Z"
    }
   },
   "cell_type": "code",
   "source": [
    "def should_keep(meta):\n",
    "    return (\n",
    "        meta[\"presence_ratio\"] >= 0.2 and\n",
    "        meta[\"mean_motion\"] >= 0.05 and\n",
    "        meta[\"duration_sec\"] > 1.0\n",
    "    )"
   ],
   "id": "8253fc15cf4a8fb",
   "outputs": [],
   "execution_count": 16
  },
  {
   "metadata": {},
   "cell_type": "code",
   "source": [
    "rows = []\n",
    "skipped = []\n",
    "base_dir = \"./../../data/temp/videos/trimmed\"\n",
    "videos = [v for v in os.listdir(base_dir) if v.endswith(\".mp4\")]\n",
    "\n",
    "for video in tqdm(videos, desc=\"Analyzing videos\", unit=\"video\"):\n",
    "    video_path = os.path.join(base_dir, video)\n",
    "    tqdm.write(f\"[STEP] Processing: {video}\")\n",
    "\n",
    "    meta = detect_persons(video_path)\n",
    "    if meta:\n",
    "        meta[\"keep\"] = should_keep(meta)\n",
    "        meta[\"video\"] = video\n",
    "        rows.append(meta)\n",
    "\n",
    "        if not meta[\"keep\"]:\n",
    "            tqdm.write(f\"[SKIPPED] Skipped (low quality): {video} \"\n",
    "                       f\"[presence={meta['presence_ratio']:.2f}, motion={meta['mean_motion']:.2f}]\")\n",
    "    else:\n",
    "        skipped.append(video)\n",
    "        tqdm.write(f\"❌ Skipped (unreadable): {video}\")\n",
    "\n",
    "processed_videos = pd.DataFrame(rows)\n",
    "\n",
    "print(f\"Processed: {len(videos)} videos | Skipped unreadable: {len(skipped)} | Kept in results: {len(processed_videos)}\")\n",
    "if skipped:\n",
    "    print(\"Skipped files:\")\n",
    "    for s in skipped:\n",
    "        print(f\"   - {s}\")"
   ],
   "id": "9d5cd4206762065b",
   "outputs": [],
   "execution_count": null
  },
  {
   "metadata": {},
   "cell_type": "markdown",
   "source": "> Processed: 1643 videos | Skipped unreadable: 0 | Kept in results: 1643",
   "id": "d2fceac6506a2cbb"
  },
  {
   "metadata": {
    "ExecuteTime": {
     "end_time": "2025-10-24T19:37:57.820381Z",
     "start_time": "2025-10-24T19:37:57.814531Z"
    }
   },
   "cell_type": "code",
   "source": [
    "print(len(processed_videos))\n",
    "processed_videos.head()"
   ],
   "id": "d4315540ced6d485",
   "outputs": [
    {
     "name": "stdout",
     "output_type": "stream",
     "text": [
      "1643\n"
     ]
    },
    {
     "data": {
      "text/plain": [
       "   presence_ratio  mean_edge_touches  mean_motion  duration_sec   keep  \\\n",
       "0        0.000000           0.000000     0.000000      1.792660  False   \n",
       "1        1.000000           0.000000     0.716430      3.920928   True   \n",
       "2        0.270833           0.163462     0.302138      4.005791   True   \n",
       "3        0.666667           0.000000     0.636362      3.791675   True   \n",
       "4        0.000000           0.000000     0.000000      0.375734  False   \n",
       "\n",
       "                                               video  \n",
       "0  trimmed_columpioscam3-2024-11-12_08_32_46_00-0...  \n",
       "1  trimmed_columpioscam3-2024-09-25_21_26_59_00-0...  \n",
       "2  trimmed_columpioscam3-2024-10-22_20_12_50_00-0...  \n",
       "3  trimmed_columpios_cam4-2024-12-13_20-02-00_00-...  \n",
       "4  trimmed_columpios_cam4-2024-11-21_18_53_10_00-...  "
      ],
      "text/html": [
       "<div>\n",
       "<style scoped>\n",
       "    .dataframe tbody tr th:only-of-type {\n",
       "        vertical-align: middle;\n",
       "    }\n",
       "\n",
       "    .dataframe tbody tr th {\n",
       "        vertical-align: top;\n",
       "    }\n",
       "\n",
       "    .dataframe thead th {\n",
       "        text-align: right;\n",
       "    }\n",
       "</style>\n",
       "<table border=\"1\" class=\"dataframe\">\n",
       "  <thead>\n",
       "    <tr style=\"text-align: right;\">\n",
       "      <th></th>\n",
       "      <th>presence_ratio</th>\n",
       "      <th>mean_edge_touches</th>\n",
       "      <th>mean_motion</th>\n",
       "      <th>duration_sec</th>\n",
       "      <th>keep</th>\n",
       "      <th>video</th>\n",
       "    </tr>\n",
       "  </thead>\n",
       "  <tbody>\n",
       "    <tr>\n",
       "      <th>0</th>\n",
       "      <td>0.000000</td>\n",
       "      <td>0.000000</td>\n",
       "      <td>0.000000</td>\n",
       "      <td>1.792660</td>\n",
       "      <td>False</td>\n",
       "      <td>trimmed_columpioscam3-2024-11-12_08_32_46_00-0...</td>\n",
       "    </tr>\n",
       "    <tr>\n",
       "      <th>1</th>\n",
       "      <td>1.000000</td>\n",
       "      <td>0.000000</td>\n",
       "      <td>0.716430</td>\n",
       "      <td>3.920928</td>\n",
       "      <td>True</td>\n",
       "      <td>trimmed_columpioscam3-2024-09-25_21_26_59_00-0...</td>\n",
       "    </tr>\n",
       "    <tr>\n",
       "      <th>2</th>\n",
       "      <td>0.270833</td>\n",
       "      <td>0.163462</td>\n",
       "      <td>0.302138</td>\n",
       "      <td>4.005791</td>\n",
       "      <td>True</td>\n",
       "      <td>trimmed_columpioscam3-2024-10-22_20_12_50_00-0...</td>\n",
       "    </tr>\n",
       "    <tr>\n",
       "      <th>3</th>\n",
       "      <td>0.666667</td>\n",
       "      <td>0.000000</td>\n",
       "      <td>0.636362</td>\n",
       "      <td>3.791675</td>\n",
       "      <td>True</td>\n",
       "      <td>trimmed_columpios_cam4-2024-12-13_20-02-00_00-...</td>\n",
       "    </tr>\n",
       "    <tr>\n",
       "      <th>4</th>\n",
       "      <td>0.000000</td>\n",
       "      <td>0.000000</td>\n",
       "      <td>0.000000</td>\n",
       "      <td>0.375734</td>\n",
       "      <td>False</td>\n",
       "      <td>trimmed_columpios_cam4-2024-11-21_18_53_10_00-...</td>\n",
       "    </tr>\n",
       "  </tbody>\n",
       "</table>\n",
       "</div>"
      ]
     },
     "execution_count": 22,
     "metadata": {},
     "output_type": "execute_result"
    }
   ],
   "execution_count": 22
  },
  {
   "metadata": {
    "ExecuteTime": {
     "end_time": "2025-10-24T19:39:48.021184Z",
     "start_time": "2025-10-24T19:39:48.017899Z"
    }
   },
   "cell_type": "code",
   "source": [
    "not_keep_count = (~processed_videos[\"keep\"]).sum()\n",
    "keep_count = processed_videos[\"keep\"].sum()\n",
    "\n",
    "print(f\"Videos kept: {keep_count}\")\n",
    "print(f\"Videos to remove: {not_keep_count}\")"
   ],
   "id": "12d95797e21e35ca",
   "outputs": [
    {
     "name": "stdout",
     "output_type": "stream",
     "text": [
      "Videos kept: 1146\n",
      "Videos to remove: 497\n"
     ]
    }
   ],
   "execution_count": 23
  },
  {
   "metadata": {
    "ExecuteTime": {
     "end_time": "2025-10-24T19:44:31.003212Z",
     "start_time": "2025-10-24T19:44:30.991201Z"
    }
   },
   "cell_type": "code",
   "source": [
    "df_merged = original_scenes.merge(\n",
    "    processed_videos,\n",
    "    how=\"left\",\n",
    "    left_on=\"trimmed_name\",\n",
    "    right_on=\"video\"\n",
    ")\n",
    "\n",
    "print(\"Merged shape:\", df_merged.shape)\n",
    "df_merged.head(3)"
   ],
   "id": "396655142556535a",
   "outputs": [
    {
     "name": "stdout",
     "output_type": "stream",
     "text": [
      "Merged shape: (2277, 18)\n"
     ]
    },
    {
     "data": {
      "text/plain": [
       "                               video_base  t_start_sec_x  t_end_sec_x  \\\n",
       "0  columpios_cam4-2024-11-21 18:53:10.mp4      13.833333    17.833333   \n",
       "1   columpioscam3-2024-09-25 11:41:35.mp4       6.250000    10.250000   \n",
       "2   columpioscam3-2024-10-03 18:29:30.mp4      12.916667    16.916667   \n",
       "\n",
       "                                        trimmed_name  start_frame12  \\\n",
       "0  trimmed_columpios_cam4-2024-11-21_18_53_10_00-...          166.0   \n",
       "1  trimmed_columpioscam3-2024-09-25_11_41_35_00-0...           75.0   \n",
       "2  trimmed_columpioscam3-2024-10-03_18_29_30_00-0...          155.0   \n",
       "\n",
       "   window_activity        lat        long                         timestamp  \\\n",
       "0         7.713624  25.653061 -100.285843  2024-11-22 00:53:10.041613+00:00   \n",
       "1         7.713624  25.653034 -100.286041  2024-09-25 17:41:35.045100+00:00   \n",
       "2         7.713624  25.652994 -100.286118  2024-10-04 00:29:30.051348+00:00   \n",
       "\n",
       "                                                  id  \\\n",
       "0  columpios_cam4-2024-11-21_185310.mp4:17527661-...   \n",
       "1           columpioscam3-2024-09-25_114135.mp4:96:0   \n",
       "2  columpioscam3-2024-10-03_182930.mp4:66a106a0-b...   \n",
       "\n",
       "                              id_person          camera  presence_ratio  \\\n",
       "0  17527661-d095-4e94-bad5-cf142e0d4a79  columpios_cam4        0.000000   \n",
       "1                                    96   columpioscam3        0.034091   \n",
       "2  66a106a0-bd03-49e9-8418-8c6ae98d020c   columpioscam3        0.333333   \n",
       "\n",
       "   mean_edge_touches  mean_motion  duration_sec   keep  \\\n",
       "0                0.0     0.000000      0.375734  False   \n",
       "1                0.0     0.168131      4.021505  False   \n",
       "2                0.0     0.000000      0.239414  False   \n",
       "\n",
       "                                               video  \n",
       "0  trimmed_columpios_cam4-2024-11-21_18_53_10_00-...  \n",
       "1  trimmed_columpioscam3-2024-09-25_11_41_35_00-0...  \n",
       "2  trimmed_columpioscam3-2024-10-03_18_29_30_00-0...  "
      ],
      "text/html": [
       "<div>\n",
       "<style scoped>\n",
       "    .dataframe tbody tr th:only-of-type {\n",
       "        vertical-align: middle;\n",
       "    }\n",
       "\n",
       "    .dataframe tbody tr th {\n",
       "        vertical-align: top;\n",
       "    }\n",
       "\n",
       "    .dataframe thead th {\n",
       "        text-align: right;\n",
       "    }\n",
       "</style>\n",
       "<table border=\"1\" class=\"dataframe\">\n",
       "  <thead>\n",
       "    <tr style=\"text-align: right;\">\n",
       "      <th></th>\n",
       "      <th>video_base</th>\n",
       "      <th>t_start_sec_x</th>\n",
       "      <th>t_end_sec_x</th>\n",
       "      <th>trimmed_name</th>\n",
       "      <th>start_frame12</th>\n",
       "      <th>window_activity</th>\n",
       "      <th>lat</th>\n",
       "      <th>long</th>\n",
       "      <th>timestamp</th>\n",
       "      <th>id</th>\n",
       "      <th>id_person</th>\n",
       "      <th>camera</th>\n",
       "      <th>presence_ratio</th>\n",
       "      <th>mean_edge_touches</th>\n",
       "      <th>mean_motion</th>\n",
       "      <th>duration_sec</th>\n",
       "      <th>keep</th>\n",
       "      <th>video</th>\n",
       "    </tr>\n",
       "  </thead>\n",
       "  <tbody>\n",
       "    <tr>\n",
       "      <th>0</th>\n",
       "      <td>columpios_cam4-2024-11-21 18:53:10.mp4</td>\n",
       "      <td>13.833333</td>\n",
       "      <td>17.833333</td>\n",
       "      <td>trimmed_columpios_cam4-2024-11-21_18_53_10_00-...</td>\n",
       "      <td>166.0</td>\n",
       "      <td>7.713624</td>\n",
       "      <td>25.653061</td>\n",
       "      <td>-100.285843</td>\n",
       "      <td>2024-11-22 00:53:10.041613+00:00</td>\n",
       "      <td>columpios_cam4-2024-11-21_185310.mp4:17527661-...</td>\n",
       "      <td>17527661-d095-4e94-bad5-cf142e0d4a79</td>\n",
       "      <td>columpios_cam4</td>\n",
       "      <td>0.000000</td>\n",
       "      <td>0.0</td>\n",
       "      <td>0.000000</td>\n",
       "      <td>0.375734</td>\n",
       "      <td>False</td>\n",
       "      <td>trimmed_columpios_cam4-2024-11-21_18_53_10_00-...</td>\n",
       "    </tr>\n",
       "    <tr>\n",
       "      <th>1</th>\n",
       "      <td>columpioscam3-2024-09-25 11:41:35.mp4</td>\n",
       "      <td>6.250000</td>\n",
       "      <td>10.250000</td>\n",
       "      <td>trimmed_columpioscam3-2024-09-25_11_41_35_00-0...</td>\n",
       "      <td>75.0</td>\n",
       "      <td>7.713624</td>\n",
       "      <td>25.653034</td>\n",
       "      <td>-100.286041</td>\n",
       "      <td>2024-09-25 17:41:35.045100+00:00</td>\n",
       "      <td>columpioscam3-2024-09-25_114135.mp4:96:0</td>\n",
       "      <td>96</td>\n",
       "      <td>columpioscam3</td>\n",
       "      <td>0.034091</td>\n",
       "      <td>0.0</td>\n",
       "      <td>0.168131</td>\n",
       "      <td>4.021505</td>\n",
       "      <td>False</td>\n",
       "      <td>trimmed_columpioscam3-2024-09-25_11_41_35_00-0...</td>\n",
       "    </tr>\n",
       "    <tr>\n",
       "      <th>2</th>\n",
       "      <td>columpioscam3-2024-10-03 18:29:30.mp4</td>\n",
       "      <td>12.916667</td>\n",
       "      <td>16.916667</td>\n",
       "      <td>trimmed_columpioscam3-2024-10-03_18_29_30_00-0...</td>\n",
       "      <td>155.0</td>\n",
       "      <td>7.713624</td>\n",
       "      <td>25.652994</td>\n",
       "      <td>-100.286118</td>\n",
       "      <td>2024-10-04 00:29:30.051348+00:00</td>\n",
       "      <td>columpioscam3-2024-10-03_182930.mp4:66a106a0-b...</td>\n",
       "      <td>66a106a0-bd03-49e9-8418-8c6ae98d020c</td>\n",
       "      <td>columpioscam3</td>\n",
       "      <td>0.333333</td>\n",
       "      <td>0.0</td>\n",
       "      <td>0.000000</td>\n",
       "      <td>0.239414</td>\n",
       "      <td>False</td>\n",
       "      <td>trimmed_columpioscam3-2024-10-03_18_29_30_00-0...</td>\n",
       "    </tr>\n",
       "  </tbody>\n",
       "</table>\n",
       "</div>"
      ]
     },
     "execution_count": 26,
     "metadata": {},
     "output_type": "execute_result"
    }
   ],
   "execution_count": 26
  },
  {
   "metadata": {
    "ExecuteTime": {
     "end_time": "2025-10-24T19:57:23.016175Z",
     "start_time": "2025-10-24T19:57:23.013539Z"
    }
   },
   "cell_type": "code",
   "source": "df_merged = df_merged.drop(columns=[\"video\"])",
   "id": "945e7fbab2c1ca43",
   "outputs": [],
   "execution_count": 28
  },
  {
   "metadata": {
    "ExecuteTime": {
     "end_time": "2025-10-24T19:58:28.261898Z",
     "start_time": "2025-10-24T19:58:28.258286Z"
    }
   },
   "cell_type": "code",
   "source": [
    "df_cleaned = df_merged[df_merged[\"keep\"] == True].copy()\n",
    "\n",
    "print(\"Cleaned merged shape:\", df_cleaned.shape)\n",
    "print(\"Removed:\", (~df_merged[\"keep\"]).sum(), \"rows\")"
   ],
   "id": "1711c72499cfa0c7",
   "outputs": [
    {
     "name": "stdout",
     "output_type": "stream",
     "text": [
      "Cleaned merged shape: (1643, 17)\n",
      "Removed: 634 rows\n"
     ]
    }
   ],
   "execution_count": 29
  },
  {
   "metadata": {
    "ExecuteTime": {
     "end_time": "2025-10-24T19:59:03.440859Z",
     "start_time": "2025-10-24T19:59:03.421770Z"
    }
   },
   "cell_type": "code",
   "source": "df_cleaned.to_csv(\"./../../data/prefiltered_scenes.csv\", index=False)",
   "id": "3a0dfbddb5272f26",
   "outputs": [],
   "execution_count": 30
  },
  {
   "metadata": {},
   "cell_type": "markdown",
   "source": "## Pose Estimation",
   "id": "55cba45567a66db9"
  },
  {
   "metadata": {
    "ExecuteTime": {
     "end_time": "2025-10-24T20:49:11.581422Z",
     "start_time": "2025-10-24T20:49:11.579077Z"
    }
   },
   "cell_type": "code",
   "source": [
    "device = \"cuda\" if torch.cuda.is_available() else \"cpu\"\n",
    "print(f\"Using device: {device}\")"
   ],
   "id": "9a33a5a5b03712e9",
   "outputs": [
    {
     "name": "stdout",
     "output_type": "stream",
     "text": [
      "Using device: cpu\n"
     ]
    }
   ],
   "execution_count": 37
  },
  {
   "metadata": {
    "ExecuteTime": {
     "end_time": "2025-10-24T20:51:37.459799Z",
     "start_time": "2025-10-24T20:51:37.457492Z"
    }
   },
   "cell_type": "code",
   "source": [
    "video_dir = \"./../../data/temp/videos/trimmed\"\n",
    "output_dir = \"./../../data/temp/skeletons\"\n",
    "os.makedirs(output_dir, exist_ok=True)"
   ],
   "id": "6246f1bce644b637",
   "outputs": [],
   "execution_count": 39
  },
  {
   "metadata": {},
   "cell_type": "code",
   "outputs": [],
   "execution_count": null,
   "source": "pose_model = YOLO(\"yolo11m-pose.pt\")",
   "id": "9700f9c7c8d212f3"
  },
  {
   "metadata": {
    "ExecuteTime": {
     "end_time": "2025-10-24T20:51:38.459337Z",
     "start_time": "2025-10-24T20:51:38.454182Z"
    }
   },
   "cell_type": "code",
   "source": [
    "videos = [f for f in os.listdir(video_dir) if f.endswith(\".mp4\")]\n",
    "print(f\"🎥 Found {len(videos)} videos to process.\\n\")"
   ],
   "id": "b816c38de45f82e3",
   "outputs": [
    {
     "name": "stdout",
     "output_type": "stream",
     "text": [
      "🎥 Found 1643 videos to process.\n",
      "\n"
     ]
    }
   ],
   "execution_count": 40
  },
  {
   "metadata": {},
   "cell_type": "code",
   "outputs": [],
   "execution_count": null,
   "source": [
    "for video_file in tqdm(videos, desc=\"Processing videos\"):\n",
    "    video_path = os.path.join(video_dir, video_file)\n",
    "    out_json = os.path.join(output_dir, video_file.replace(\".mp4\", \".json\"))\n",
    "\n",
    "    if os.path.exists(out_json):\n",
    "        tqdm.write(f\"[SKIPPED] Skipping {video_file} (already processed)\")\n",
    "        continue\n",
    "\n",
    "    try:\n",
    "        results = pose_model(video_path, stream=True, device=device, verbose=False)\n",
    "\n",
    "        skeleton_data = []\n",
    "        for frame_idx, r in enumerate(results):\n",
    "            people = []\n",
    "            if r.keypoints is not None and len(r.keypoints) > 0:\n",
    "                kpts = r.keypoints.xy.cpu().numpy()      # (n_persons, 17, 2)\n",
    "                conf = r.keypoints.conf.cpu().numpy()    # (n_persons, 17)\n",
    "                for pid in range(len(kpts)):\n",
    "                    joints = [\n",
    "                        {\"x\": float(x), \"y\": float(y), \"conf\": float(c)}\n",
    "                        for (x, y), c in zip(kpts[pid], conf[pid])\n",
    "                    ]\n",
    "                    people.append({\"id\": pid, \"keypoints\": joints})\n",
    "            skeleton_data.append({\"frame\": frame_idx, \"people\": people})\n",
    "\n",
    "        with open(out_json, \"w\") as f:\n",
    "            json.dump(skeleton_data, f, indent=2)\n",
    "\n",
    "        tqdm.write(f\"Saved skeletons for {video_file}\")\n",
    "\n",
    "    except Exception as e:\n",
    "        tqdm.write(f\"[❌ERROR] Error processing {video_file}: {e}\")\n",
    "        continue\n",
    "\n",
    "print(\"\\nAll videos processed.\")"
   ],
   "id": "3ea2539f4401e03f"
  }
 ],
 "metadata": {
  "kernelspec": {
   "display_name": "Python 3",
   "language": "python",
   "name": "python3"
  },
  "language_info": {
   "codemirror_mode": {
    "name": "ipython",
    "version": 2
   },
   "file_extension": ".py",
   "mimetype": "text/x-python",
   "name": "python",
   "nbconvert_exporter": "python",
   "pygments_lexer": "ipython2",
   "version": "2.7.6"
  }
 },
 "nbformat": 4,
 "nbformat_minor": 5
}
