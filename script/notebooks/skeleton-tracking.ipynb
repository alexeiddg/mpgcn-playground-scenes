{
 "cells": [
  {
   "cell_type": "code",
   "id": "initial_id",
   "metadata": {
    "collapsed": true,
    "ExecuteTime": {
     "end_time": "2025-10-27T23:07:14.868741Z",
     "start_time": "2025-10-27T23:07:13.048127Z"
    }
   },
   "source": "!pip install deep-sort-realtime",
   "outputs": [
    {
     "name": "stdout",
     "output_type": "stream",
     "text": [
      "Collecting deep-sort-realtime\r\n",
      "  Downloading deep_sort_realtime-1.3.2-py3-none-any.whl.metadata (12 kB)\r\n",
      "Requirement already satisfied: numpy in /Users/alexeidelgado/miniconda3/lib/python3.12/site-packages (from deep-sort-realtime) (2.2.6)\r\n",
      "Requirement already satisfied: scipy in /Users/alexeidelgado/miniconda3/lib/python3.12/site-packages (from deep-sort-realtime) (1.15.2)\r\n",
      "Requirement already satisfied: opencv-python in /Users/alexeidelgado/miniconda3/lib/python3.12/site-packages (from deep-sort-realtime) (4.12.0.88)\r\n",
      "Downloading deep_sort_realtime-1.3.2-py3-none-any.whl (8.4 MB)\r\n",
      "\u001B[2K   \u001B[90m━━━━━━━━━━━━━━━━━━━━━━━━━━━━━━━━━━━━━━━━\u001B[0m \u001B[32m8.4/8.4 MB\u001B[0m \u001B[31m31.7 MB/s\u001B[0m eta \u001B[36m0:00:00\u001B[0m \u001B[36m0:00:01\u001B[0m\r\n",
      "\u001B[?25hInstalling collected packages: deep-sort-realtime\r\n",
      "Successfully installed deep-sort-realtime-1.3.2\r\n",
      "\r\n",
      "\u001B[1m[\u001B[0m\u001B[34;49mnotice\u001B[0m\u001B[1;39;49m]\u001B[0m\u001B[39;49m A new release of pip is available: \u001B[0m\u001B[31;49m24.3.1\u001B[0m\u001B[39;49m -> \u001B[0m\u001B[32;49m25.3\u001B[0m\r\n",
      "\u001B[1m[\u001B[0m\u001B[34;49mnotice\u001B[0m\u001B[1;39;49m]\u001B[0m\u001B[39;49m To update, run: \u001B[0m\u001B[32;49mpip install --upgrade pip\u001B[0m\r\n"
     ]
    }
   ],
   "execution_count": 1
  },
  {
   "metadata": {
    "ExecuteTime": {
     "end_time": "2025-10-27T23:08:35.166096Z",
     "start_time": "2025-10-27T23:08:34.259735Z"
    }
   },
   "cell_type": "code",
   "source": [
    "from ultralytics import YOLO\n",
    "from deep_sort_realtime.deepsort_tracker import DeepSort\n",
    "import cv2, json, os\n",
    "from tqdm import tqdm"
   ],
   "id": "2049715ad9138661",
   "outputs": [],
   "execution_count": 3
  },
  {
   "metadata": {
    "ExecuteTime": {
     "end_time": "2025-10-27T23:10:11.618042Z",
     "start_time": "2025-10-27T23:10:11.615283Z"
    }
   },
   "cell_type": "code",
   "source": [
    "input_dir = \"./../../data/temp/videos/trimmed\"\n",
    "output_dir = \"./../../data/temp/skeletons/skeletons_tracked\"\n",
    "os.makedirs(output_dir, exist_ok=True)"
   ],
   "id": "573658d7ae845a47",
   "outputs": [],
   "execution_count": 5
  },
  {
   "metadata": {},
   "cell_type": "code",
   "outputs": [],
   "execution_count": null,
   "source": [
    "pose_model = YOLO(\"yolo11l-pose.pt\")\n",
    "tracker = DeepSort(max_age=30, n_init=3, nms_max_overlap=1.0, max_cosine_distance=0.4)"
   ],
   "id": "53b54cbab7d35ae1"
  },
  {
   "metadata": {},
   "cell_type": "code",
   "outputs": [],
   "execution_count": null,
   "source": [
    "video_files = [v for v in os.listdir(input_dir) if v.endswith(\".mp4\")]\n",
    "print(f\"Found {len(video_files)} videos to process.\")\n",
    "\n",
    "for video_name in tqdm(video_files, desc=\"Tracking videos\"):\n",
    "    video_path = os.path.join(input_dir, video_name)\n",
    "    out_json = os.path.join(output_dir, video_name.replace(\".mp4\", \"_tracked.json\"))\n",
    "\n",
    "    if os.path.exists(out_json):\n",
    "        print(f\"[SKIPPED] Skipping {video_name}, already processed.\")\n",
    "        continue\n",
    "\n",
    "    tracker = DeepSort(\n",
    "        max_age=30,\n",
    "        n_init=3,\n",
    "        nms_max_overlap=1.0,\n",
    "        max_cosine_distance=0.4,\n",
    "        embedder_gpu=True\n",
    "    )\n",
    "\n",
    "    skeleton_data = []\n",
    "    frame_idx = 0\n",
    "\n",
    "    try:\n",
    "        results = pose_model(video_path, stream=True, device=0, half=True, verbose=False)\n",
    "        for result in results:\n",
    "            people = []\n",
    "            bboxes = result.boxes.xyxy.cpu().numpy() if result.boxes is not None else []\n",
    "            kpts = result.keypoints.xy.cpu().numpy() if result.keypoints is not None else []\n",
    "            confs = result.boxes.conf.cpu().numpy() if result.boxes is not None else []\n",
    "\n",
    "            detections = []\n",
    "            for i, box in enumerate(bboxes):\n",
    "                x1, y1, x2, y2 = box\n",
    "                detections.append(([x1, y1, x2 - x1, y2 - y1], confs[i], None))\n",
    "\n",
    "            tracks = tracker.update_tracks(detections, frame=None)\n",
    "\n",
    "            # Store tracked skeletons\n",
    "            for t_idx, track in enumerate(tracks):\n",
    "                if not track.is_confirmed():\n",
    "                    continue\n",
    "                tid = int(track.track_id)\n",
    "                if t_idx < len(bboxes):\n",
    "                    x1, y1, x2, y2 = bboxes[t_idx]\n",
    "                    joints = []\n",
    "                    if len(kpts) > t_idx:\n",
    "                        for (x, y) in kpts[t_idx]:\n",
    "                            joints.append({\"x\": float(x), \"y\": float(y)})\n",
    "                    people.append({\n",
    "                        \"track_id\": tid,\n",
    "                        \"bbox\": [float(x1), float(y1), float(x2), float(y2)],\n",
    "                        \"keypoints\": joints\n",
    "                    })\n",
    "\n",
    "            skeleton_data.append({\"frame\": frame_idx, \"people\": people})\n",
    "            frame_idx += 1\n",
    "\n",
    "        # Save per-video JSON\n",
    "        with open(out_json, \"w\") as f:\n",
    "            json.dump(skeleton_data, f, indent=2)\n",
    "\n",
    "        print(f\"Saved tracked skeletons → {out_json}\")\n",
    "\n",
    "    except Exception as e:\n",
    "        print(f\"❌ Error processing {video_name}: {e}\")\n",
    "        continue\n",
    "\n",
    "print(\"All videos processed successfully!\")"
   ],
   "id": "a47255dd95292191"
  }
 ],
 "metadata": {
  "kernelspec": {
   "display_name": "Python 3",
   "language": "python",
   "name": "python3"
  },
  "language_info": {
   "codemirror_mode": {
    "name": "ipython",
    "version": 2
   },
   "file_extension": ".py",
   "mimetype": "text/x-python",
   "name": "python",
   "nbconvert_exporter": "python",
   "pygments_lexer": "ipython2",
   "version": "2.7.6"
  }
 },
 "nbformat": 4,
 "nbformat_minor": 5
}
