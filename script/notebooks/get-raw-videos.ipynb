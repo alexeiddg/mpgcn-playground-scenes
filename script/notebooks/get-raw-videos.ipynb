{
 "cells": [
  {
   "cell_type": "code",
   "id": "initial_id",
   "metadata": {
    "collapsed": true,
    "jupyter": {
     "outputs_hidden": true
    },
    "ExecuteTime": {
     "end_time": "2025-10-23T18:07:48.324563Z",
     "start_time": "2025-10-23T18:07:48.322135Z"
    }
   },
   "source": [
    "import pandas as pd\n",
    "import os\n",
    "import math\n",
    "import subprocess\n",
    "import re\n",
    "\n",
    "from dotenv import load_dotenv\n",
    "from azure.storage.blob import BlobServiceClient, ContainerClient\n",
    "from tqdm import tqdm"
   ],
   "outputs": [],
   "execution_count": 41
  },
  {
   "cell_type": "code",
   "execution_count": 3,
   "id": "9f25ed6f8361059d",
   "metadata": {
    "ExecuteTime": {
     "end_time": "2025-10-22T20:46:22.019539Z",
     "start_time": "2025-10-22T20:46:22.015452Z"
    }
   },
   "outputs": [],
   "source": [
    "load_dotenv()\n",
    "\n",
    "account_url = os.getenv('AZURE_ACCOUNT_URL', 'https://your-account.blob.core.windows.net')\n",
    "account_name = os.getenv('AZURE_ACCOUNT_NAME', 'your-account-name')\n",
    "container = os.getenv('AZURE_CONTAINER', 'your-container-name')\n",
    "sas_token = os.getenv('AZURE_SAS_TOKEN', 'your-sas-token-here')"
   ]
  },
  {
   "cell_type": "code",
   "execution_count": 7,
   "id": "ef3dd0c5d216e334",
   "metadata": {
    "ExecuteTime": {
     "end_time": "2025-10-22T20:48:02.521265Z",
     "start_time": "2025-10-22T20:48:02.518203Z"
    }
   },
   "outputs": [],
   "source": [
    "container_url = f\"https://{account_name}.blob.core.windows.net/{container}?{sas_token}\"\n",
    "container_client = ContainerClient.from_container_url(container_url)"
   ]
  },
  {
   "cell_type": "markdown",
   "id": "73411377881a28d7",
   "metadata": {},
   "source": [
    "## 1. Validate video path"
   ]
  },
  {
   "cell_type": "code",
   "execution_count": 4,
   "id": "5b1f371992f3ae36",
   "metadata": {
    "ExecuteTime": {
     "end_time": "2025-10-22T20:46:23.466568Z",
     "start_time": "2025-10-22T20:46:23.456398Z"
    }
   },
   "outputs": [],
   "source": [
    "videos_df = pd.read_csv('./../../data/videos.csv')"
   ]
  },
  {
   "cell_type": "code",
   "execution_count": 9,
   "id": "c5d54e4471667f5a",
   "metadata": {
    "ExecuteTime": {
     "end_time": "2025-10-22T20:51:50.696767Z",
     "start_time": "2025-10-22T20:51:50.688832Z"
    }
   },
   "outputs": [
    {
     "name": "stdout",
     "output_type": "stream",
     "text": [
      "1643\n"
     ]
    },
    {
     "data": {
      "text/html": [
       "<div>\n",
       "<style scoped>\n",
       "    .dataframe tbody tr th:only-of-type {\n",
       "        vertical-align: middle;\n",
       "    }\n",
       "\n",
       "    .dataframe tbody tr th {\n",
       "        vertical-align: top;\n",
       "    }\n",
       "\n",
       "    .dataframe thead th {\n",
       "        text-align: right;\n",
       "    }\n",
       "</style>\n",
       "<table border=\"1\" class=\"dataframe\">\n",
       "  <thead>\n",
       "    <tr style=\"text-align: right;\">\n",
       "      <th></th>\n",
       "      <th>video_base</th>\n",
       "      <th>start_frame12</th>\n",
       "      <th>t_start_sec</th>\n",
       "      <th>t_end_sec</th>\n",
       "      <th>frame12</th>\n",
       "      <th>window_activity</th>\n",
       "      <th>lat</th>\n",
       "      <th>long</th>\n",
       "      <th>timestamp</th>\n",
       "      <th>id</th>\n",
       "      <th>id_person</th>\n",
       "      <th>camera</th>\n",
       "    </tr>\n",
       "  </thead>\n",
       "  <tbody>\n",
       "    <tr>\n",
       "      <th>0</th>\n",
       "      <td>columpios_cam4-2024-11-21 18:53:10.mp4</td>\n",
       "      <td>166.0</td>\n",
       "      <td>13.833333</td>\n",
       "      <td>17.833333</td>\n",
       "      <td>166</td>\n",
       "      <td>7.713624</td>\n",
       "      <td>25.653061</td>\n",
       "      <td>-100.285843</td>\n",
       "      <td>2024-11-22 00:53:10.041613+00:00</td>\n",
       "      <td>columpios_cam4-2024-11-21_185310.mp4:17527661-...</td>\n",
       "      <td>17527661-d095-4e94-bad5-cf142e0d4a79</td>\n",
       "      <td>columpios_cam4</td>\n",
       "    </tr>\n",
       "    <tr>\n",
       "      <th>1</th>\n",
       "      <td>columpioscam3-2024-09-25 11:41:35.mp4</td>\n",
       "      <td>75.0</td>\n",
       "      <td>6.250000</td>\n",
       "      <td>10.250000</td>\n",
       "      <td>75</td>\n",
       "      <td>7.713624</td>\n",
       "      <td>25.653034</td>\n",
       "      <td>-100.286041</td>\n",
       "      <td>2024-09-25 17:41:35.045100+00:00</td>\n",
       "      <td>columpioscam3-2024-09-25_114135.mp4:96:0</td>\n",
       "      <td>96</td>\n",
       "      <td>columpioscam3</td>\n",
       "    </tr>\n",
       "    <tr>\n",
       "      <th>2</th>\n",
       "      <td>columpioscam3-2024-10-03 18:29:30.mp4</td>\n",
       "      <td>155.0</td>\n",
       "      <td>12.916667</td>\n",
       "      <td>16.916667</td>\n",
       "      <td>155</td>\n",
       "      <td>7.713624</td>\n",
       "      <td>25.652994</td>\n",
       "      <td>-100.286118</td>\n",
       "      <td>2024-10-04 00:29:30.051348+00:00</td>\n",
       "      <td>columpioscam3-2024-10-03_182930.mp4:66a106a0-b...</td>\n",
       "      <td>66a106a0-bd03-49e9-8418-8c6ae98d020c</td>\n",
       "      <td>columpioscam3</td>\n",
       "    </tr>\n",
       "    <tr>\n",
       "      <th>3</th>\n",
       "      <td>columpioscam1-2024-11-17 10:25:24.mp4</td>\n",
       "      <td>120.0</td>\n",
       "      <td>10.000000</td>\n",
       "      <td>14.000000</td>\n",
       "      <td>120</td>\n",
       "      <td>7.713624</td>\n",
       "      <td>25.653151</td>\n",
       "      <td>-100.285637</td>\n",
       "      <td>2024-11-17 16:25:24.041494+00:00</td>\n",
       "      <td>columpioscam1-2024-11-17_102524.mp4:85745e56-a...</td>\n",
       "      <td>85745e56-a3e9-4b62-bb2d-c1e8ee152f86</td>\n",
       "      <td>columpioscam1</td>\n",
       "    </tr>\n",
       "    <tr>\n",
       "      <th>4</th>\n",
       "      <td>columpios_cam4-2024-11-21 19:16:11.mp4</td>\n",
       "      <td>76.0</td>\n",
       "      <td>6.333333</td>\n",
       "      <td>10.333333</td>\n",
       "      <td>76</td>\n",
       "      <td>7.713624</td>\n",
       "      <td>25.653048</td>\n",
       "      <td>-100.285912</td>\n",
       "      <td>2024-11-22 01:16:11.041568+00:00</td>\n",
       "      <td>columpios_cam4-2024-11-21_191611.mp4:addad6d5-...</td>\n",
       "      <td>addad6d5-1fe6-484f-964d-3302e3899325</td>\n",
       "      <td>columpios_cam4</td>\n",
       "    </tr>\n",
       "  </tbody>\n",
       "</table>\n",
       "</div>"
      ],
      "text/plain": [
       "                               video_base  start_frame12  t_start_sec  \\\n",
       "0  columpios_cam4-2024-11-21 18:53:10.mp4          166.0    13.833333   \n",
       "1   columpioscam3-2024-09-25 11:41:35.mp4           75.0     6.250000   \n",
       "2   columpioscam3-2024-10-03 18:29:30.mp4          155.0    12.916667   \n",
       "3   columpioscam1-2024-11-17 10:25:24.mp4          120.0    10.000000   \n",
       "4  columpios_cam4-2024-11-21 19:16:11.mp4           76.0     6.333333   \n",
       "\n",
       "   t_end_sec  frame12  window_activity        lat        long  \\\n",
       "0  17.833333      166         7.713624  25.653061 -100.285843   \n",
       "1  10.250000       75         7.713624  25.653034 -100.286041   \n",
       "2  16.916667      155         7.713624  25.652994 -100.286118   \n",
       "3  14.000000      120         7.713624  25.653151 -100.285637   \n",
       "4  10.333333       76         7.713624  25.653048 -100.285912   \n",
       "\n",
       "                          timestamp  \\\n",
       "0  2024-11-22 00:53:10.041613+00:00   \n",
       "1  2024-09-25 17:41:35.045100+00:00   \n",
       "2  2024-10-04 00:29:30.051348+00:00   \n",
       "3  2024-11-17 16:25:24.041494+00:00   \n",
       "4  2024-11-22 01:16:11.041568+00:00   \n",
       "\n",
       "                                                  id  \\\n",
       "0  columpios_cam4-2024-11-21_185310.mp4:17527661-...   \n",
       "1           columpioscam3-2024-09-25_114135.mp4:96:0   \n",
       "2  columpioscam3-2024-10-03_182930.mp4:66a106a0-b...   \n",
       "3  columpioscam1-2024-11-17_102524.mp4:85745e56-a...   \n",
       "4  columpios_cam4-2024-11-21_191611.mp4:addad6d5-...   \n",
       "\n",
       "                              id_person          camera  \n",
       "0  17527661-d095-4e94-bad5-cf142e0d4a79  columpios_cam4  \n",
       "1                                    96   columpioscam3  \n",
       "2  66a106a0-bd03-49e9-8418-8c6ae98d020c   columpioscam3  \n",
       "3  85745e56-a3e9-4b62-bb2d-c1e8ee152f86   columpioscam1  \n",
       "4  addad6d5-1fe6-484f-964d-3302e3899325  columpios_cam4  "
      ]
     },
     "execution_count": 9,
     "metadata": {},
     "output_type": "execute_result"
    }
   ],
   "source": [
    "print(len(videos_df))\n",
    "videos_df.head()"
   ]
  },
  {
   "metadata": {
    "ExecuteTime": {
     "end_time": "2025-10-23T18:02:19.929822Z",
     "start_time": "2025-10-23T18:02:19.927136Z"
    }
   },
   "cell_type": "code",
   "source": "videos_df.shape",
   "id": "6e6316fdbfd3fbd7",
   "outputs": [
    {
     "data": {
      "text/plain": [
       "(1643, 12)"
      ]
     },
     "execution_count": 38,
     "metadata": {},
     "output_type": "execute_result"
    }
   ],
   "execution_count": 38
  },
  {
   "cell_type": "code",
   "execution_count": 10,
   "id": "37d07169c96546f7",
   "metadata": {
    "ExecuteTime": {
     "end_time": "2025-10-22T20:53:04.945974Z",
     "start_time": "2025-10-22T20:53:04.940988Z"
    }
   },
   "outputs": [],
   "source": [
    "def validate_videos_in_azure(video_names, container_client):\n",
    "    \"\"\"\n",
    "    Validate which videos exist in Azure Blob Storage.\n",
    "    Returns a DataFrame with validation status and total GB size.\n",
    "    \"\"\"\n",
    "    records = []\n",
    "\n",
    "    print(f\"🔍 Validating {len(video_names)} videos in Azure...\")\n",
    "    for name in video_names:\n",
    "        try:\n",
    "            blob_client = container_client.get_blob_client(name)\n",
    "            props = blob_client.get_blob_properties()\n",
    "\n",
    "            records.append({\n",
    "                \"video_name\": name,\n",
    "                \"exists_in_azure\": True,\n",
    "                \"size_bytes\": props.size\n",
    "            })\n",
    "        except Exception as e:\n",
    "            records.append({\n",
    "                \"video_name\": name,\n",
    "                \"exists_in_azure\": False,\n",
    "                \"error\": str(e)\n",
    "            })\n",
    "\n",
    "    df_validation = pd.DataFrame(records)\n",
    "\n",
    "    total_gb = df_validation.loc[df_validation[\"exists_in_azure\"], \"size_bytes\"].sum() / (1024 ** 3)\n",
    "\n",
    "    print(f\"\\n✅ Found {df_validation['exists_in_azure'].sum()} videos in Azure\")\n",
    "    print(f\"❌ Missing {(~df_validation['exists_in_azure']).sum()} videos\")\n",
    "    print(f\"Total size of found videos: {total_gb:.2f} GB\")\n",
    "\n",
    "    return df_validation, total_gb"
   ]
  },
  {
   "cell_type": "code",
   "execution_count": 11,
   "id": "2036e8d60d67916b",
   "metadata": {
    "ExecuteTime": {
     "end_time": "2025-10-22T20:54:51.849788Z",
     "start_time": "2025-10-22T20:53:06.347322Z"
    }
   },
   "outputs": [
    {
     "name": "stdout",
     "output_type": "stream",
     "text": [
      "🔍 Validating 1326 videos in Azure...\n",
      "\n",
      "✅ Found 1326 videos in Azure\n",
      "❌ Missing 0 videos\n",
      "Total size of found videos: 3.72 GB\n"
     ]
    }
   ],
   "source": [
    "unique_videos = videos_df['video_base'].unique()\n",
    "validation_results = validate_videos_in_azure(unique_videos, container_client)"
   ]
  },
  {
   "cell_type": "markdown",
   "id": "b807349093b88b02",
   "metadata": {},
   "source": [
    "## 2. Get videos"
   ]
  },
  {
   "cell_type": "code",
   "id": "24851049d25c1a11",
   "metadata": {
    "ExecuteTime": {
     "end_time": "2025-10-23T17:22:30.438381Z",
     "start_time": "2025-10-23T17:22:30.435864Z"
    }
   },
   "source": [
    "temp_dir = \"./../../data/temp\"\n",
    "os.makedirs(temp_dir, exist_ok=True)"
   ],
   "outputs": [],
   "execution_count": 21
  },
  {
   "metadata": {
    "ExecuteTime": {
     "end_time": "2025-10-23T17:22:37.637893Z",
     "start_time": "2025-10-23T17:22:37.634278Z"
    }
   },
   "cell_type": "code",
   "source": [
    "def download_videos(videos_df):\n",
    "    for _, row in tqdm(videos_df.iterrows(), total=len(videos_df), desc=\"Downloading videos\"):\n",
    "        blob_name = row[\"video_base\"]\n",
    "        local_path = os.path.join(temp_dir, blob_name)\n",
    "\n",
    "        if os.path.exists(local_path):\n",
    "            print(f\"Skipping {blob_name}, already exists.\")\n",
    "            continue\n",
    "\n",
    "        try:\n",
    "            blob_client = container_client.get_blob_client(blob_name)\n",
    "            with open(local_path, \"wb\") as f:\n",
    "                download_stream = blob_client.download_blob()\n",
    "                f.write(download_stream.readall())\n",
    "            print(f\"Downloaded: {blob_name}\")\n",
    "        except Exception as e:\n",
    "            print(f\"⚠️ Error downloading {blob_name}: {e}\")\n",
    "\n",
    "    print(\"\\nAll downloads complete.\")"
   ],
   "id": "dd346f6d13671f4e",
   "outputs": [],
   "execution_count": 22
  },
  {
   "metadata": {},
   "cell_type": "code",
   "source": "download_videos(videos_df)",
   "id": "1189e5affb3612ba",
   "outputs": [],
   "execution_count": null
  },
  {
   "metadata": {},
   "cell_type": "markdown",
   "source": "> Actual Size 4GB, Cell output cleared for tidiness",
   "id": "3ee07726e9e60e56"
  },
  {
   "metadata": {},
   "cell_type": "markdown",
   "source": "## 3. Trim videos to activity window",
   "id": "4061c7ef2adba5f7"
  },
  {
   "metadata": {
    "ExecuteTime": {
     "end_time": "2025-10-23T18:07:35.245566Z",
     "start_time": "2025-10-23T18:07:35.242605Z"
    }
   },
   "cell_type": "code",
   "source": [
    "output_dir = \"./../../data/temp/videos/trimmed\"\n",
    "os.makedirs(output_dir, exist_ok=True)"
   ],
   "id": "525d6c43e7b56245",
   "outputs": [],
   "execution_count": 39
  },
  {
   "metadata": {
    "ExecuteTime": {
     "end_time": "2025-10-23T18:07:37.887089Z",
     "start_time": "2025-10-23T18:07:37.883898Z"
    }
   },
   "cell_type": "code",
   "source": [
    "def sanitize_times(start_t: float, end_t: float, duration: float | None = None):\n",
    "    \"\"\"\n",
    "    Validate and clamp start/end times for trimming.\n",
    "    Returns (start, end) or None if invalid.\n",
    "    \"\"\"\n",
    "    if math.isnan(start_t) or math.isnan(end_t):\n",
    "        return None\n",
    "\n",
    "    s = max(0.0, float(start_t))\n",
    "    e = float(end_t)\n",
    "\n",
    "    if duration is not None:\n",
    "        e = min(e, float(duration))\n",
    "\n",
    "    if e <= s:\n",
    "        return None\n",
    "\n",
    "    return s, e"
   ],
   "id": "3c90f50862b36700",
   "outputs": [],
   "execution_count": 40
  },
  {
   "metadata": {
    "ExecuteTime": {
     "end_time": "2025-10-23T18:07:54.250472Z",
     "start_time": "2025-10-23T18:07:54.247855Z"
    }
   },
   "cell_type": "code",
   "source": [
    "def safe_filename(name: str) -> str:\n",
    "    return re.sub(r'[\\\\/:\\s]+', '_', name)"
   ],
   "id": "c1d971a10540931e",
   "outputs": [],
   "execution_count": 42
  },
  {
   "metadata": {
    "ExecuteTime": {
     "end_time": "2025-10-23T18:09:28.509119Z",
     "start_time": "2025-10-23T18:09:28.506508Z"
    }
   },
   "cell_type": "code",
   "source": [
    "def format_hms(seconds: float) -> str:\n",
    "    total = int(round(seconds))\n",
    "    h = total // 3600\n",
    "    m = (total % 3600) // 60\n",
    "    s = total % 60\n",
    "    return f\"{h:02d}-{m:02d}-{s:02d}\""
   ],
   "id": "5eacef1e06e4fab5",
   "outputs": [],
   "execution_count": 44
  },
  {
   "metadata": {},
   "cell_type": "markdown",
   "source": "> We use emojis for faster debug of logs",
   "id": "f7e5305a082d0ea9"
  },
  {
   "metadata": {},
   "cell_type": "code",
   "source": [
    "trim_records = []\n",
    "\n",
    "for idx, row in tqdm(videos_df.iterrows(), total=len(videos_df), desc=\"Trimming videos (ffmpeg copy)\"):\n",
    "    video_name = row[\"video_base\"]\n",
    "    start_t = float(row[\"t_start_sec\"])\n",
    "    end_t   = float(row[\"t_end_sec\"])\n",
    "\n",
    "    in_path = os.path.join(temp_dir, video_name)\n",
    "\n",
    "    safe_name = safe_filename(os.path.splitext(video_name)[0])\n",
    "\n",
    "    st_en = sanitize_times(start_t, end_t)\n",
    "    if st_en is None:\n",
    "        print(f\"⚠️ Invalid times ({start_t}, {end_t}) for {video_name}, skipping.\")\n",
    "        continue\n",
    "    s, e = st_en\n",
    "\n",
    "    start_tag = format_hms(s)\n",
    "    end_tag   = format_hms(e)\n",
    "    out_name  = f\"trimmed_{safe_name}_{start_tag}_to_{end_tag}_{idx}.mp4\"\n",
    "    out_path  = os.path.join(output_dir, out_name)\n",
    "\n",
    "    if not os.path.exists(in_path):\n",
    "        print(f\"⚠️ Missing file: {video_name}\")\n",
    "        continue\n",
    "    if os.path.exists(out_path):\n",
    "        print(f\"Already exists: {out_name}\")\n",
    "    else:\n",
    "        cmd = [\n",
    "            \"ffmpeg\",\n",
    "            \"-ss\", str(s),\n",
    "            \"-to\", str(e),\n",
    "            \"-i\", in_path,\n",
    "            \"-c\", \"copy\",\n",
    "            \"-movflags\", \"+faststart\",\n",
    "            \"-y\", out_path\n",
    "        ]\n",
    "        try:\n",
    "            subprocess.run(cmd, stdout=subprocess.DEVNULL, stderr=subprocess.DEVNULL, check=True)\n",
    "            print(f\"Trimmed: {out_name}\")\n",
    "        except subprocess.CalledProcessError as e:\n",
    "            print(f\"❌ Error trimming {video_name}: {e}\")\n",
    "            continue\n",
    "\n",
    "    trim_records.append({\n",
    "        \"video_base\": video_name,\n",
    "        \"t_start_sec\": s,\n",
    "        \"t_end_sec\": e,\n",
    "        \"trimmed_name\": out_name,\n",
    "        \"trimmed_path\": os.path.abspath(out_path)\n",
    "    })\n",
    "\n",
    "print(\"\\nAll trimmed clips saved to:\", output_dir)\n"
   ],
   "id": "ada842c87a0292d2",
   "outputs": [],
   "execution_count": null
  },
  {
   "metadata": {},
   "cell_type": "markdown",
   "source": "> Total size: 1.56GB",
   "id": "b38e7fa59a68900e"
  },
  {
   "metadata": {
    "ExecuteTime": {
     "end_time": "2025-10-23T18:13:43.300825Z",
     "start_time": "2025-10-23T18:13:43.296175Z"
    }
   },
   "cell_type": "code",
   "source": [
    "total_files = len([\n",
    "    f for f in os.listdir(output_dir)\n",
    "    if f.endswith(\".mp4\")\n",
    "])\n",
    "\n",
    "print(f\"Total trimmed videos: {total_files}\")"
   ],
   "id": "e6d5e20da3366c8f",
   "outputs": [
    {
     "name": "stdout",
     "output_type": "stream",
     "text": [
      "Total trimmed videos: 1643\n"
     ]
    }
   ],
   "execution_count": 46
  },
  {
   "metadata": {
    "ExecuteTime": {
     "end_time": "2025-10-23T18:14:12.793163Z",
     "start_time": "2025-10-23T18:14:12.788572Z"
    }
   },
   "cell_type": "code",
   "source": [
    "trimmed_videos_df = pd.DataFrame(trim_records)\n",
    "print(f\"\\nTrimmed videos recorded: {len(trimmed_videos_df)}\")"
   ],
   "id": "e534d2f222c75ace",
   "outputs": [
    {
     "name": "stdout",
     "output_type": "stream",
     "text": [
      "\n",
      "Trimmed videos recorded: 1643\n"
     ]
    }
   ],
   "execution_count": 47
  },
  {
   "metadata": {
    "ExecuteTime": {
     "end_time": "2025-10-23T18:14:23.028806Z",
     "start_time": "2025-10-23T18:14:23.023086Z"
    }
   },
   "cell_type": "code",
   "source": "trimmed_videos_df.head()",
   "id": "5af1561a06b9c2b0",
   "outputs": [
    {
     "data": {
      "text/plain": [
       "                               video_base  t_start_sec  t_end_sec  \\\n",
       "0  columpios_cam4-2024-11-21 18:53:10.mp4    13.833333  17.833333   \n",
       "1   columpioscam3-2024-09-25 11:41:35.mp4     6.250000  10.250000   \n",
       "2   columpioscam3-2024-10-03 18:29:30.mp4    12.916667  16.916667   \n",
       "3   columpioscam1-2024-11-17 10:25:24.mp4    10.000000  14.000000   \n",
       "4  columpios_cam4-2024-11-21 19:16:11.mp4     6.333333  10.333333   \n",
       "\n",
       "                                        trimmed_name  \\\n",
       "0  trimmed_columpios_cam4-2024-11-21_18_53_10_00-...   \n",
       "1  trimmed_columpioscam3-2024-09-25_11_41_35_00-0...   \n",
       "2  trimmed_columpioscam3-2024-10-03_18_29_30_00-0...   \n",
       "3  trimmed_columpioscam1-2024-11-17_10_25_24_00-0...   \n",
       "4  trimmed_columpios_cam4-2024-11-21_19_16_11_00-...   \n",
       "\n",
       "                                        trimmed_path  \n",
       "0  /Users/alexeidelgado/Desktop/mpgcn-playground-...  \n",
       "1  /Users/alexeidelgado/Desktop/mpgcn-playground-...  \n",
       "2  /Users/alexeidelgado/Desktop/mpgcn-playground-...  \n",
       "3  /Users/alexeidelgado/Desktop/mpgcn-playground-...  \n",
       "4  /Users/alexeidelgado/Desktop/mpgcn-playground-...  "
      ],
      "text/html": [
       "<div>\n",
       "<style scoped>\n",
       "    .dataframe tbody tr th:only-of-type {\n",
       "        vertical-align: middle;\n",
       "    }\n",
       "\n",
       "    .dataframe tbody tr th {\n",
       "        vertical-align: top;\n",
       "    }\n",
       "\n",
       "    .dataframe thead th {\n",
       "        text-align: right;\n",
       "    }\n",
       "</style>\n",
       "<table border=\"1\" class=\"dataframe\">\n",
       "  <thead>\n",
       "    <tr style=\"text-align: right;\">\n",
       "      <th></th>\n",
       "      <th>video_base</th>\n",
       "      <th>t_start_sec</th>\n",
       "      <th>t_end_sec</th>\n",
       "      <th>trimmed_name</th>\n",
       "      <th>trimmed_path</th>\n",
       "    </tr>\n",
       "  </thead>\n",
       "  <tbody>\n",
       "    <tr>\n",
       "      <th>0</th>\n",
       "      <td>columpios_cam4-2024-11-21 18:53:10.mp4</td>\n",
       "      <td>13.833333</td>\n",
       "      <td>17.833333</td>\n",
       "      <td>trimmed_columpios_cam4-2024-11-21_18_53_10_00-...</td>\n",
       "      <td>/Users/alexeidelgado/Desktop/mpgcn-playground-...</td>\n",
       "    </tr>\n",
       "    <tr>\n",
       "      <th>1</th>\n",
       "      <td>columpioscam3-2024-09-25 11:41:35.mp4</td>\n",
       "      <td>6.250000</td>\n",
       "      <td>10.250000</td>\n",
       "      <td>trimmed_columpioscam3-2024-09-25_11_41_35_00-0...</td>\n",
       "      <td>/Users/alexeidelgado/Desktop/mpgcn-playground-...</td>\n",
       "    </tr>\n",
       "    <tr>\n",
       "      <th>2</th>\n",
       "      <td>columpioscam3-2024-10-03 18:29:30.mp4</td>\n",
       "      <td>12.916667</td>\n",
       "      <td>16.916667</td>\n",
       "      <td>trimmed_columpioscam3-2024-10-03_18_29_30_00-0...</td>\n",
       "      <td>/Users/alexeidelgado/Desktop/mpgcn-playground-...</td>\n",
       "    </tr>\n",
       "    <tr>\n",
       "      <th>3</th>\n",
       "      <td>columpioscam1-2024-11-17 10:25:24.mp4</td>\n",
       "      <td>10.000000</td>\n",
       "      <td>14.000000</td>\n",
       "      <td>trimmed_columpioscam1-2024-11-17_10_25_24_00-0...</td>\n",
       "      <td>/Users/alexeidelgado/Desktop/mpgcn-playground-...</td>\n",
       "    </tr>\n",
       "    <tr>\n",
       "      <th>4</th>\n",
       "      <td>columpios_cam4-2024-11-21 19:16:11.mp4</td>\n",
       "      <td>6.333333</td>\n",
       "      <td>10.333333</td>\n",
       "      <td>trimmed_columpios_cam4-2024-11-21_19_16_11_00-...</td>\n",
       "      <td>/Users/alexeidelgado/Desktop/mpgcn-playground-...</td>\n",
       "    </tr>\n",
       "  </tbody>\n",
       "</table>\n",
       "</div>"
      ]
     },
     "execution_count": 48,
     "metadata": {},
     "output_type": "execute_result"
    }
   ],
   "execution_count": 48
  },
  {
   "metadata": {
    "ExecuteTime": {
     "end_time": "2025-10-24T00:45:51.598900Z",
     "start_time": "2025-10-24T00:45:51.591312Z"
    }
   },
   "cell_type": "code",
   "source": [
    "enriched_trimmed_df = trimmed_videos_df.merge(\n",
    "    videos_df,\n",
    "    on='video_base',\n",
    "    how='left'\n",
    ")\n",
    "\n",
    "print(f\"Original trimmed_videos_df columns: {list(trimmed_videos_df.columns)}\")\n",
    "print(f\"Enriched dataframe columns: {list(enriched_trimmed_df.columns)}\")\n",
    "print(f\"Shape: {enriched_trimmed_df.shape}\")"
   ],
   "id": "7126369c553b39de",
   "outputs": [
    {
     "name": "stdout",
     "output_type": "stream",
     "text": [
      "Original trimmed_videos_df columns: ['video_base', 't_start_sec', 't_end_sec', 'trimmed_name', 'trimmed_path']\n",
      "Enriched dataframe columns: ['video_base', 't_start_sec_x', 't_end_sec_x', 'trimmed_name', 'trimmed_path', 'start_frame12', 't_start_sec_y', 't_end_sec_y', 'frame12', 'window_activity', 'lat', 'long', 'timestamp', 'id', 'id_person', 'camera']\n",
      "Shape: (2277, 16)\n"
     ]
    }
   ],
   "execution_count": 53
  },
  {
   "metadata": {
    "ExecuteTime": {
     "end_time": "2025-10-24T01:14:31.782155Z",
     "start_time": "2025-10-24T01:14:31.779188Z"
    }
   },
   "cell_type": "code",
   "source": [
    "enriched_trimmed_df = enriched_trimmed_df.drop(columns=[\n",
    "    't_start_sec_y',\n",
    "    't_end_sec_y',\n",
    "    'trimmed_path',\n",
    "    'frame12'\n",
    "], errors='ignore')"
   ],
   "id": "74c26634f22b02e9",
   "outputs": [],
   "execution_count": 58
  },
  {
   "metadata": {
    "ExecuteTime": {
     "end_time": "2025-10-24T01:14:54.196376Z",
     "start_time": "2025-10-24T01:14:54.188743Z"
    }
   },
   "cell_type": "code",
   "source": "enriched_trimmed_df.head()",
   "id": "b7d11abc36f3eb8c",
   "outputs": [
    {
     "data": {
      "text/plain": [
       "                               video_base  t_start_sec_x  t_end_sec_x  \\\n",
       "0  columpios_cam4-2024-11-21 18:53:10.mp4      13.833333    17.833333   \n",
       "1   columpioscam3-2024-09-25 11:41:35.mp4       6.250000    10.250000   \n",
       "2   columpioscam3-2024-10-03 18:29:30.mp4      12.916667    16.916667   \n",
       "3   columpioscam1-2024-11-17 10:25:24.mp4      10.000000    14.000000   \n",
       "4  columpios_cam4-2024-11-21 19:16:11.mp4       6.333333    10.333333   \n",
       "\n",
       "                                        trimmed_name  start_frame12  \\\n",
       "0  trimmed_columpios_cam4-2024-11-21_18_53_10_00-...          166.0   \n",
       "1  trimmed_columpioscam3-2024-09-25_11_41_35_00-0...           75.0   \n",
       "2  trimmed_columpioscam3-2024-10-03_18_29_30_00-0...          155.0   \n",
       "3  trimmed_columpioscam1-2024-11-17_10_25_24_00-0...          120.0   \n",
       "4  trimmed_columpios_cam4-2024-11-21_19_16_11_00-...           76.0   \n",
       "\n",
       "   window_activity        lat        long                         timestamp  \\\n",
       "0         7.713624  25.653061 -100.285843  2024-11-22 00:53:10.041613+00:00   \n",
       "1         7.713624  25.653034 -100.286041  2024-09-25 17:41:35.045100+00:00   \n",
       "2         7.713624  25.652994 -100.286118  2024-10-04 00:29:30.051348+00:00   \n",
       "3         7.713624  25.653151 -100.285637  2024-11-17 16:25:24.041494+00:00   \n",
       "4         7.713624  25.653048 -100.285912  2024-11-22 01:16:11.041568+00:00   \n",
       "\n",
       "                                                  id  \\\n",
       "0  columpios_cam4-2024-11-21_185310.mp4:17527661-...   \n",
       "1           columpioscam3-2024-09-25_114135.mp4:96:0   \n",
       "2  columpioscam3-2024-10-03_182930.mp4:66a106a0-b...   \n",
       "3  columpioscam1-2024-11-17_102524.mp4:85745e56-a...   \n",
       "4  columpios_cam4-2024-11-21_191611.mp4:addad6d5-...   \n",
       "\n",
       "                              id_person          camera  \n",
       "0  17527661-d095-4e94-bad5-cf142e0d4a79  columpios_cam4  \n",
       "1                                    96   columpioscam3  \n",
       "2  66a106a0-bd03-49e9-8418-8c6ae98d020c   columpioscam3  \n",
       "3  85745e56-a3e9-4b62-bb2d-c1e8ee152f86   columpioscam1  \n",
       "4  addad6d5-1fe6-484f-964d-3302e3899325  columpios_cam4  "
      ],
      "text/html": [
       "<div>\n",
       "<style scoped>\n",
       "    .dataframe tbody tr th:only-of-type {\n",
       "        vertical-align: middle;\n",
       "    }\n",
       "\n",
       "    .dataframe tbody tr th {\n",
       "        vertical-align: top;\n",
       "    }\n",
       "\n",
       "    .dataframe thead th {\n",
       "        text-align: right;\n",
       "    }\n",
       "</style>\n",
       "<table border=\"1\" class=\"dataframe\">\n",
       "  <thead>\n",
       "    <tr style=\"text-align: right;\">\n",
       "      <th></th>\n",
       "      <th>video_base</th>\n",
       "      <th>t_start_sec_x</th>\n",
       "      <th>t_end_sec_x</th>\n",
       "      <th>trimmed_name</th>\n",
       "      <th>start_frame12</th>\n",
       "      <th>window_activity</th>\n",
       "      <th>lat</th>\n",
       "      <th>long</th>\n",
       "      <th>timestamp</th>\n",
       "      <th>id</th>\n",
       "      <th>id_person</th>\n",
       "      <th>camera</th>\n",
       "    </tr>\n",
       "  </thead>\n",
       "  <tbody>\n",
       "    <tr>\n",
       "      <th>0</th>\n",
       "      <td>columpios_cam4-2024-11-21 18:53:10.mp4</td>\n",
       "      <td>13.833333</td>\n",
       "      <td>17.833333</td>\n",
       "      <td>trimmed_columpios_cam4-2024-11-21_18_53_10_00-...</td>\n",
       "      <td>166.0</td>\n",
       "      <td>7.713624</td>\n",
       "      <td>25.653061</td>\n",
       "      <td>-100.285843</td>\n",
       "      <td>2024-11-22 00:53:10.041613+00:00</td>\n",
       "      <td>columpios_cam4-2024-11-21_185310.mp4:17527661-...</td>\n",
       "      <td>17527661-d095-4e94-bad5-cf142e0d4a79</td>\n",
       "      <td>columpios_cam4</td>\n",
       "    </tr>\n",
       "    <tr>\n",
       "      <th>1</th>\n",
       "      <td>columpioscam3-2024-09-25 11:41:35.mp4</td>\n",
       "      <td>6.250000</td>\n",
       "      <td>10.250000</td>\n",
       "      <td>trimmed_columpioscam3-2024-09-25_11_41_35_00-0...</td>\n",
       "      <td>75.0</td>\n",
       "      <td>7.713624</td>\n",
       "      <td>25.653034</td>\n",
       "      <td>-100.286041</td>\n",
       "      <td>2024-09-25 17:41:35.045100+00:00</td>\n",
       "      <td>columpioscam3-2024-09-25_114135.mp4:96:0</td>\n",
       "      <td>96</td>\n",
       "      <td>columpioscam3</td>\n",
       "    </tr>\n",
       "    <tr>\n",
       "      <th>2</th>\n",
       "      <td>columpioscam3-2024-10-03 18:29:30.mp4</td>\n",
       "      <td>12.916667</td>\n",
       "      <td>16.916667</td>\n",
       "      <td>trimmed_columpioscam3-2024-10-03_18_29_30_00-0...</td>\n",
       "      <td>155.0</td>\n",
       "      <td>7.713624</td>\n",
       "      <td>25.652994</td>\n",
       "      <td>-100.286118</td>\n",
       "      <td>2024-10-04 00:29:30.051348+00:00</td>\n",
       "      <td>columpioscam3-2024-10-03_182930.mp4:66a106a0-b...</td>\n",
       "      <td>66a106a0-bd03-49e9-8418-8c6ae98d020c</td>\n",
       "      <td>columpioscam3</td>\n",
       "    </tr>\n",
       "    <tr>\n",
       "      <th>3</th>\n",
       "      <td>columpioscam1-2024-11-17 10:25:24.mp4</td>\n",
       "      <td>10.000000</td>\n",
       "      <td>14.000000</td>\n",
       "      <td>trimmed_columpioscam1-2024-11-17_10_25_24_00-0...</td>\n",
       "      <td>120.0</td>\n",
       "      <td>7.713624</td>\n",
       "      <td>25.653151</td>\n",
       "      <td>-100.285637</td>\n",
       "      <td>2024-11-17 16:25:24.041494+00:00</td>\n",
       "      <td>columpioscam1-2024-11-17_102524.mp4:85745e56-a...</td>\n",
       "      <td>85745e56-a3e9-4b62-bb2d-c1e8ee152f86</td>\n",
       "      <td>columpioscam1</td>\n",
       "    </tr>\n",
       "    <tr>\n",
       "      <th>4</th>\n",
       "      <td>columpios_cam4-2024-11-21 19:16:11.mp4</td>\n",
       "      <td>6.333333</td>\n",
       "      <td>10.333333</td>\n",
       "      <td>trimmed_columpios_cam4-2024-11-21_19_16_11_00-...</td>\n",
       "      <td>76.0</td>\n",
       "      <td>7.713624</td>\n",
       "      <td>25.653048</td>\n",
       "      <td>-100.285912</td>\n",
       "      <td>2024-11-22 01:16:11.041568+00:00</td>\n",
       "      <td>columpios_cam4-2024-11-21_191611.mp4:addad6d5-...</td>\n",
       "      <td>addad6d5-1fe6-484f-964d-3302e3899325</td>\n",
       "      <td>columpios_cam4</td>\n",
       "    </tr>\n",
       "  </tbody>\n",
       "</table>\n",
       "</div>"
      ]
     },
     "execution_count": 59,
     "metadata": {},
     "output_type": "execute_result"
    }
   ],
   "execution_count": 59
  },
  {
   "metadata": {
    "ExecuteTime": {
     "end_time": "2025-10-24T01:15:37.310061Z",
     "start_time": "2025-10-24T01:15:37.292826Z"
    }
   },
   "cell_type": "code",
   "source": "enriched_trimmed_df.to_csv(\"./../../data/videos-trimmed.csv\", index=False)",
   "id": "e7dc2b63439fd1c3",
   "outputs": [],
   "execution_count": 60
  },
  {
   "metadata": {},
   "cell_type": "markdown",
   "source": "## 4. Cleanup original videos",
   "id": "cf431c7a0740b324"
  },
  {
   "metadata": {
    "ExecuteTime": {
     "end_time": "2025-10-23T18:18:37.068439Z",
     "start_time": "2025-10-23T18:18:37.062885Z"
    }
   },
   "cell_type": "code",
   "source": [
    "original_dir = \"./../../data/temp\"\n",
    "trimmed_dir = os.path.join(original_dir, \"videos\", \"trimmed\")\n",
    "\n",
    "if not os.path.exists(original_dir):\n",
    "    raise FileNotFoundError(f\"Folder not found: {original_dir}\")\n",
    "if not os.path.exists(trimmed_dir):\n",
    "    print(f\"Trimmed folder not found: {trimmed_dir}\")\n",
    "\n",
    "to_delete = [\n",
    "    os.path.join(original_dir, f)\n",
    "    for f in os.listdir(original_dir)\n",
    "    if f.endswith(\".mp4\")\n",
    "]\n",
    "\n",
    "print(f\"Found {len(to_delete)} original video(s) to delete in {original_dir}\")"
   ],
   "id": "bc7647ad405fc3a8",
   "outputs": [
    {
     "name": "stdout",
     "output_type": "stream",
     "text": [
      "Found 1326 original video(s) to delete in ./../../data/temp\n"
     ]
    }
   ],
   "execution_count": 49
  },
  {
   "metadata": {
    "ExecuteTime": {
     "end_time": "2025-10-23T18:19:17.637894Z",
     "start_time": "2025-10-23T18:19:14.388947Z"
    }
   },
   "cell_type": "code",
   "source": [
    "# confirm manually for safety\n",
    "confirm = input(\"Type 'yes' to confirm deletion: \").strip().lower()\n",
    "if confirm == \"yes\":\n",
    "    for f in tqdm(to_delete, desc=\"Deleting original videos\"):\n",
    "        try:\n",
    "            os.remove(f)\n",
    "        except Exception as e:\n",
    "            print(f\"⚠Could not delete {f}: {e}\")\n",
    "    print(f\"\\nDeleted {len(to_delete)} original videos.\")\n",
    "else:\n",
    "    print(\"Deletion cancelled.\")"
   ],
   "id": "624e9d9bb91922c3",
   "outputs": [
    {
     "name": "stderr",
     "output_type": "stream",
     "text": [
      "Deleting original videos: 100%|██████████| 1326/1326 [00:00<00:00, 5148.57it/s]"
     ]
    },
    {
     "name": "stdout",
     "output_type": "stream",
     "text": [
      "\n",
      "Deleted 1326 original videos.\n"
     ]
    },
    {
     "name": "stderr",
     "output_type": "stream",
     "text": [
      "\n"
     ]
    }
   ],
   "execution_count": 50
  }
 ],
 "metadata": {
  "kernelspec": {
   "display_name": "Python 3 (ipykernel)",
   "language": "python",
   "name": "python3"
  },
  "language_info": {
   "codemirror_mode": {
    "name": "ipython",
    "version": 3
   },
   "file_extension": ".py",
   "mimetype": "text/x-python",
   "name": "python",
   "nbconvert_exporter": "python",
   "pygments_lexer": "ipython3",
   "version": "3.12.9"
  }
 },
 "nbformat": 4,
 "nbformat_minor": 5
}
