{
 "cells": [
  {
   "cell_type": "code",
   "id": "initial_id",
   "metadata": {
    "collapsed": true,
    "ExecuteTime": {
     "end_time": "2025-10-24T16:07:43.011725Z",
     "start_time": "2025-10-24T16:07:42.601983Z"
    }
   },
   "source": [
    "import os\n",
    "import pandas as pd\n",
    "\n",
    "from dotenv import load_dotenv\n",
    "from azure.storage.blob import BlobServiceClient, ContainerClient\n",
    "from tqdm import tqdm"
   ],
   "outputs": [],
   "execution_count": 1
  },
  {
   "metadata": {
    "ExecuteTime": {
     "end_time": "2025-10-24T16:07:43.729173Z",
     "start_time": "2025-10-24T16:07:43.725038Z"
    }
   },
   "cell_type": "code",
   "source": [
    "load_dotenv()\n",
    "\n",
    "account_url = os.getenv('SAME_AZURE_ACCOUNT_URL', 'https://your-account.blob.core.windows.net')\n",
    "account_name = os.getenv('SAME_AZURE_ACCOUNT_NAME', 'your-account-name')\n",
    "container = os.getenv('SAME_AZURE_CONTAINER', 'your-container-name')\n",
    "sas_token = os.getenv('SAME_AZURE_SAS_TOKEN', 'your-sas-token-here')"
   ],
   "id": "921d37054ae1c3de",
   "outputs": [],
   "execution_count": 2
  },
  {
   "metadata": {
    "ExecuteTime": {
     "end_time": "2025-10-24T16:07:44.989956Z",
     "start_time": "2025-10-24T16:07:44.986909Z"
    }
   },
   "cell_type": "code",
   "source": [
    "container_url = f\"https://{account_name}.blob.core.windows.net/{container}?{sas_token}\"\n",
    "container_client = ContainerClient.from_container_url(container_url)"
   ],
   "id": "36da75c73a56a6d4",
   "outputs": [],
   "execution_count": 3
  },
  {
   "metadata": {
    "ExecuteTime": {
     "end_time": "2025-10-24T16:07:46.292550Z",
     "start_time": "2025-10-24T16:07:46.279335Z"
    }
   },
   "cell_type": "code",
   "source": "trimmed_videos = pd.read_csv('./../../data/videos-trimmed.csv')",
   "id": "677d7032e4de416b",
   "outputs": [],
   "execution_count": 4
  },
  {
   "metadata": {
    "ExecuteTime": {
     "end_time": "2025-10-24T16:07:47.471200Z",
     "start_time": "2025-10-24T16:07:47.461528Z"
    }
   },
   "cell_type": "code",
   "source": [
    "print(len(trimmed_videos))\n",
    "trimmed_videos.head()"
   ],
   "id": "d6cc3d2cd9f898f0",
   "outputs": [
    {
     "name": "stdout",
     "output_type": "stream",
     "text": [
      "2277\n"
     ]
    },
    {
     "data": {
      "text/plain": [
       "                               video_base  t_start_sec_x  t_end_sec_x  \\\n",
       "0  columpios_cam4-2024-11-21 18:53:10.mp4      13.833333    17.833333   \n",
       "1   columpioscam3-2024-09-25 11:41:35.mp4       6.250000    10.250000   \n",
       "2   columpioscam3-2024-10-03 18:29:30.mp4      12.916667    16.916667   \n",
       "3   columpioscam1-2024-11-17 10:25:24.mp4      10.000000    14.000000   \n",
       "4  columpios_cam4-2024-11-21 19:16:11.mp4       6.333333    10.333333   \n",
       "\n",
       "                                        trimmed_name  start_frame12  \\\n",
       "0  trimmed_columpios_cam4-2024-11-21_18_53_10_00-...          166.0   \n",
       "1  trimmed_columpioscam3-2024-09-25_11_41_35_00-0...           75.0   \n",
       "2  trimmed_columpioscam3-2024-10-03_18_29_30_00-0...          155.0   \n",
       "3  trimmed_columpioscam1-2024-11-17_10_25_24_00-0...          120.0   \n",
       "4  trimmed_columpios_cam4-2024-11-21_19_16_11_00-...           76.0   \n",
       "\n",
       "   window_activity        lat        long                         timestamp  \\\n",
       "0         7.713624  25.653061 -100.285843  2024-11-22 00:53:10.041613+00:00   \n",
       "1         7.713624  25.653034 -100.286041  2024-09-25 17:41:35.045100+00:00   \n",
       "2         7.713624  25.652994 -100.286118  2024-10-04 00:29:30.051348+00:00   \n",
       "3         7.713624  25.653151 -100.285637  2024-11-17 16:25:24.041494+00:00   \n",
       "4         7.713624  25.653048 -100.285912  2024-11-22 01:16:11.041568+00:00   \n",
       "\n",
       "                                                  id  \\\n",
       "0  columpios_cam4-2024-11-21_185310.mp4:17527661-...   \n",
       "1           columpioscam3-2024-09-25_114135.mp4:96:0   \n",
       "2  columpioscam3-2024-10-03_182930.mp4:66a106a0-b...   \n",
       "3  columpioscam1-2024-11-17_102524.mp4:85745e56-a...   \n",
       "4  columpios_cam4-2024-11-21_191611.mp4:addad6d5-...   \n",
       "\n",
       "                              id_person          camera  \n",
       "0  17527661-d095-4e94-bad5-cf142e0d4a79  columpios_cam4  \n",
       "1                                    96   columpioscam3  \n",
       "2  66a106a0-bd03-49e9-8418-8c6ae98d020c   columpioscam3  \n",
       "3  85745e56-a3e9-4b62-bb2d-c1e8ee152f86   columpioscam1  \n",
       "4  addad6d5-1fe6-484f-964d-3302e3899325  columpios_cam4  "
      ],
      "text/html": [
       "<div>\n",
       "<style scoped>\n",
       "    .dataframe tbody tr th:only-of-type {\n",
       "        vertical-align: middle;\n",
       "    }\n",
       "\n",
       "    .dataframe tbody tr th {\n",
       "        vertical-align: top;\n",
       "    }\n",
       "\n",
       "    .dataframe thead th {\n",
       "        text-align: right;\n",
       "    }\n",
       "</style>\n",
       "<table border=\"1\" class=\"dataframe\">\n",
       "  <thead>\n",
       "    <tr style=\"text-align: right;\">\n",
       "      <th></th>\n",
       "      <th>video_base</th>\n",
       "      <th>t_start_sec_x</th>\n",
       "      <th>t_end_sec_x</th>\n",
       "      <th>trimmed_name</th>\n",
       "      <th>start_frame12</th>\n",
       "      <th>window_activity</th>\n",
       "      <th>lat</th>\n",
       "      <th>long</th>\n",
       "      <th>timestamp</th>\n",
       "      <th>id</th>\n",
       "      <th>id_person</th>\n",
       "      <th>camera</th>\n",
       "    </tr>\n",
       "  </thead>\n",
       "  <tbody>\n",
       "    <tr>\n",
       "      <th>0</th>\n",
       "      <td>columpios_cam4-2024-11-21 18:53:10.mp4</td>\n",
       "      <td>13.833333</td>\n",
       "      <td>17.833333</td>\n",
       "      <td>trimmed_columpios_cam4-2024-11-21_18_53_10_00-...</td>\n",
       "      <td>166.0</td>\n",
       "      <td>7.713624</td>\n",
       "      <td>25.653061</td>\n",
       "      <td>-100.285843</td>\n",
       "      <td>2024-11-22 00:53:10.041613+00:00</td>\n",
       "      <td>columpios_cam4-2024-11-21_185310.mp4:17527661-...</td>\n",
       "      <td>17527661-d095-4e94-bad5-cf142e0d4a79</td>\n",
       "      <td>columpios_cam4</td>\n",
       "    </tr>\n",
       "    <tr>\n",
       "      <th>1</th>\n",
       "      <td>columpioscam3-2024-09-25 11:41:35.mp4</td>\n",
       "      <td>6.250000</td>\n",
       "      <td>10.250000</td>\n",
       "      <td>trimmed_columpioscam3-2024-09-25_11_41_35_00-0...</td>\n",
       "      <td>75.0</td>\n",
       "      <td>7.713624</td>\n",
       "      <td>25.653034</td>\n",
       "      <td>-100.286041</td>\n",
       "      <td>2024-09-25 17:41:35.045100+00:00</td>\n",
       "      <td>columpioscam3-2024-09-25_114135.mp4:96:0</td>\n",
       "      <td>96</td>\n",
       "      <td>columpioscam3</td>\n",
       "    </tr>\n",
       "    <tr>\n",
       "      <th>2</th>\n",
       "      <td>columpioscam3-2024-10-03 18:29:30.mp4</td>\n",
       "      <td>12.916667</td>\n",
       "      <td>16.916667</td>\n",
       "      <td>trimmed_columpioscam3-2024-10-03_18_29_30_00-0...</td>\n",
       "      <td>155.0</td>\n",
       "      <td>7.713624</td>\n",
       "      <td>25.652994</td>\n",
       "      <td>-100.286118</td>\n",
       "      <td>2024-10-04 00:29:30.051348+00:00</td>\n",
       "      <td>columpioscam3-2024-10-03_182930.mp4:66a106a0-b...</td>\n",
       "      <td>66a106a0-bd03-49e9-8418-8c6ae98d020c</td>\n",
       "      <td>columpioscam3</td>\n",
       "    </tr>\n",
       "    <tr>\n",
       "      <th>3</th>\n",
       "      <td>columpioscam1-2024-11-17 10:25:24.mp4</td>\n",
       "      <td>10.000000</td>\n",
       "      <td>14.000000</td>\n",
       "      <td>trimmed_columpioscam1-2024-11-17_10_25_24_00-0...</td>\n",
       "      <td>120.0</td>\n",
       "      <td>7.713624</td>\n",
       "      <td>25.653151</td>\n",
       "      <td>-100.285637</td>\n",
       "      <td>2024-11-17 16:25:24.041494+00:00</td>\n",
       "      <td>columpioscam1-2024-11-17_102524.mp4:85745e56-a...</td>\n",
       "      <td>85745e56-a3e9-4b62-bb2d-c1e8ee152f86</td>\n",
       "      <td>columpioscam1</td>\n",
       "    </tr>\n",
       "    <tr>\n",
       "      <th>4</th>\n",
       "      <td>columpios_cam4-2024-11-21 19:16:11.mp4</td>\n",
       "      <td>6.333333</td>\n",
       "      <td>10.333333</td>\n",
       "      <td>trimmed_columpios_cam4-2024-11-21_19_16_11_00-...</td>\n",
       "      <td>76.0</td>\n",
       "      <td>7.713624</td>\n",
       "      <td>25.653048</td>\n",
       "      <td>-100.285912</td>\n",
       "      <td>2024-11-22 01:16:11.041568+00:00</td>\n",
       "      <td>columpios_cam4-2024-11-21_191611.mp4:addad6d5-...</td>\n",
       "      <td>addad6d5-1fe6-484f-964d-3302e3899325</td>\n",
       "      <td>columpios_cam4</td>\n",
       "    </tr>\n",
       "  </tbody>\n",
       "</table>\n",
       "</div>"
      ]
     },
     "execution_count": 5,
     "metadata": {},
     "output_type": "execute_result"
    }
   ],
   "execution_count": 5
  },
  {
   "metadata": {
    "ExecuteTime": {
     "end_time": "2025-10-24T16:08:24.352006Z",
     "start_time": "2025-10-24T16:08:24.350194Z"
    }
   },
   "cell_type": "code",
   "source": [
    "temp_dir = \"./../../data/temp/videos/trimmed\"\n",
    "os.makedirs(temp_dir, exist_ok=True)"
   ],
   "id": "615a2e3dda698a3c",
   "outputs": [],
   "execution_count": 6
  },
  {
   "metadata": {
    "ExecuteTime": {
     "end_time": "2025-10-24T16:08:27.467809Z",
     "start_time": "2025-10-24T16:08:27.464223Z"
    }
   },
   "cell_type": "code",
   "source": [
    "def download_videos(videos_df):\n",
    "    for _, row in tqdm(videos_df.iterrows(), total=len(videos_df), desc=\"Downloading videos\"):\n",
    "        blob_name = row[\"trimmed_name\"]\n",
    "        local_path = os.path.join(temp_dir, blob_name)\n",
    "\n",
    "        if os.path.exists(local_path):\n",
    "            print(f\"[INFO] Skipping {blob_name}, already exists.\")\n",
    "            continue\n",
    "\n",
    "        try:\n",
    "            blob_client = container_client.get_blob_client(blob_name)\n",
    "            with open(local_path, \"wb\") as f:\n",
    "                download_stream = blob_client.download_blob()\n",
    "                f.write(download_stream.readall())\n",
    "            print(f\"Downloaded: {blob_name}\")\n",
    "        except Exception as e:\n",
    "            print(f\"⚠️ Error downloading {blob_name}: {e}\")\n",
    "\n",
    "    print(\"\\nAll downloads complete.\")"
   ],
   "id": "253a9b934ed8ee63",
   "outputs": [],
   "execution_count": 7
  },
  {
   "metadata": {},
   "cell_type": "code",
   "source": "download_videos(trimmed_videos)",
   "id": "d4ab7dc365828080",
   "outputs": [],
   "execution_count": null
  }
 ],
 "metadata": {
  "kernelspec": {
   "display_name": "Python 3",
   "language": "python",
   "name": "python3"
  },
  "language_info": {
   "codemirror_mode": {
    "name": "ipython",
    "version": 2
   },
   "file_extension": ".py",
   "mimetype": "text/x-python",
   "name": "python",
   "nbconvert_exporter": "python",
   "pygments_lexer": "ipython2",
   "version": "2.7.6"
  }
 },
 "nbformat": 4,
 "nbformat_minor": 5
}
